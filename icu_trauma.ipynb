{
 "cells": [
  {
   "cell_type": "code",
   "execution_count": 2,
   "metadata": {},
   "outputs": [],
   "source": [
    "path = r\"D:\\datasets\\mimiciii\""
   ]
  },
  {
   "cell_type": "code",
   "execution_count": 3,
   "metadata": {},
   "outputs": [],
   "source": [
    "import pandas as pd\n",
    "import vaex\n",
    "import os\n",
    "import datetime\n",
    "import re\n",
    "import time\n",
    "os.chdir(path)"
   ]
  },
  {
   "cell_type": "code",
   "execution_count": 4,
   "metadata": {},
   "outputs": [
    {
     "name": "stdout",
     "output_type": "stream",
     "text": [
      "Wall time: 152 ms\n"
     ]
    }
   ],
   "source": [
    "%%time\n",
    "chartevents = vaex.open(\"CHARTEVENTS.csv.hdf5\")\n",
    "labevents = vaex.open(\"LABEVENTS.csv.hdf5\")\n",
    "inputevents_cv = vaex.open(\"INPUTEVENTS_CV.csv.hdf5\")\n",
    "inputevents_mv = vaex.open(\"INPUTEVENTS_MV.csv.hdf5\")\n",
    "predcriptions = vaex.open(\"PRESCRIPTIONS.csv.hdf5\")"
   ]
  },
  {
   "cell_type": "code",
   "execution_count": 5,
   "metadata": {},
   "outputs": [
    {
     "name": "stdout",
     "output_type": "stream",
     "text": [
      "Wall time: 3.81 s\n"
     ]
    }
   ],
   "source": [
    "%%time\n",
    "icustays = pd.read_csv(\"ICUSTAYS.csv\",index_col=0,parse_dates=[9,10])\n",
    "procedure_mv = pd.read_csv(\"PROCEDUREEVENTS_MV.csv\",index_col=0,parse_dates=[4,5])\n",
    "procedure_icd = pd.read_csv(\"PROCEDURES_ICD.csv\")"
   ]
  },
  {
   "cell_type": "code",
   "execution_count": 6,
   "metadata": {},
   "outputs": [],
   "source": [
    "os.chdir(r\"F:\\myresearch\\TraumaHba1\\data2\")"
   ]
  },
  {
   "cell_type": "code",
   "execution_count": 7,
   "metadata": {},
   "outputs": [],
   "source": [
    "admissions = pd.read_csv(\"trauma_admissions.csv\",index_col=0,parse_dates=[3,4,5,14,15,21,22,23,24])"
   ]
  },
  {
   "cell_type": "code",
   "execution_count": 8,
   "metadata": {},
   "outputs": [],
   "source": [
    "icu_trauma = admissions[admissions.HADM_ID.isin(icustays.HADM_ID)]"
   ]
  },
  {
   "cell_type": "code",
   "execution_count": 9,
   "metadata": {},
   "outputs": [],
   "source": [
    "icu_hadm_id = icu_trauma.HADM_ID"
   ]
  },
  {
   "cell_type": "code",
   "execution_count": 10,
   "metadata": {},
   "outputs": [],
   "source": [
    "labevents_trauma = labevents[labevents.HADM_ID.isin(icu_hadm_id)]\n",
    "\n",
    "chartevents_trauma = chartevents[chartevents.HADM_ID.isin(icu_hadm_id)]\n",
    "\n",
    "predcriptions_trauma = predcriptions[predcriptions.HADM_ID.isin(icu_hadm_id)]\n",
    "\n",
    "procedure_icd_trauma = procedure_icd[procedure_icd.HADM_ID.isin(icu_hadm_id)]\n",
    "\n",
    "procedure_mv_trauma = procedure_mv[procedure_mv.HADM_ID.isin(icu_hadm_id)]"
   ]
  },
  {
   "cell_type": "code",
   "execution_count": 23,
   "metadata": {},
   "outputs": [],
   "source": [
    "\"\"\"\n",
    "从labevents 表中提取首次指标，加入总表\n",
    "lab_item_id:字符串，所需项目的ITEMID,为单一值\n",
    "variable_name:目标表格中新变量(新列)的名称\n",
    "注意事项：1、总表需要定义成全局变量，并且需要根据具体情况改名\n",
    "          2、仅适用vaex DataFrame格式数据表\n",
    "\"\"\"\n",
    "def add_vari_labevents_id_hdf(lab_item_id,variable_name):\n",
    "    \n",
    "    global icu_trauma\n",
    "     \n",
    "    items = labevents_trauma[labevents_trauma[\"ITEMID\"]==lab_item_id]\n",
    "    \n",
    "    items_df = items.to_pandas_df()\n",
    "\n",
    "    # bpd_chart_df.info()\n",
    "\n",
    "    items_df[\"CHARTTIME\"] = items_df[\"CHARTTIME\"].apply(lambda x:pd.to_datetime(x))\n",
    "   \n",
    "    first_time = items_df.groupby(\"HADM_ID\").agg({\"CHARTTIME\":\"min\"})\n",
    "\n",
    "    events=pd.merge(first_time,items_df,on=\"CHARTTIME\",how=\"left\")[[\"HADM_ID\",\"VALUENUM\"]]\n",
    "\n",
    "    events.drop_duplicates(subset=[\"HADM_ID\"],inplace=True)\n",
    "    \n",
    "    icu_trauma = pd.merge(icu_trauma,events,on=\"HADM_ID\",how=\"left\")\n",
    "\n",
    "    icu_trauma.rename(columns={\"VALUENUM\":variable_name},inplace=True)"
   ]
  },
  {
   "cell_type": "code",
   "execution_count": 24,
   "metadata": {},
   "outputs": [],
   "source": [
    "labitems = pd.read_excel(\"labitems_id.xlsx\")"
   ]
  },
  {
   "cell_type": "code",
   "execution_count": 25,
   "metadata": {},
   "outputs": [
    {
     "name": "stdout",
     "output_type": "stream",
     "text": [
      "SPECIMEN has been added.\n",
      "AADO2(art) has been added.\n",
      "BASEEXCESS(art) has been added.\n",
      "BICARBONATE(art) has been added.\n",
      "TOTALCO2(art) has been added.\n",
      "CARBOXYHEMOGLOBIN(art) has been added.\n",
      "CHLORIDE(art) has been added.\n",
      "CALCIUM(art) has been added.\n",
      "GLUCOSE(art) has been added.\n",
      "HEMATOCRIT(art) has been added.\n",
      "HEMOGLOBIN(art) has been added.\n",
      "INTUBATED has been added.\n",
      "LACTATE(art) has been added.\n",
      "METHEMOGLOBIN(art) has been added.\n",
      "O2FLOW has been added.\n",
      "FIO2 has been added.\n",
      "SO2(art) has been added.\n",
      "PCO2(art) has been added.\n",
      "PEEP has been added.\n",
      "PH(art) has been added.\n",
      "PO2(art) has been added.\n",
      "POTASSIUM(art) has been added.\n",
      "REQUIREDO2 has been added.\n",
      "SODIUM(art) has been added.\n",
      "TEMPERATURE has been added.\n",
      "TIDALVOLUME has been added.\n",
      "VENTILATIONRATE has been added.\n",
      "VENTILATOR has been added.\n",
      "HbA1c% has been added.\n",
      "HbA1c has been added.\n",
      "ALT has been added.\n",
      "ALBUMIN has been added.\n",
      "Amylase has been added.\n",
      "ANIONGAP has been added.\n",
      "AST has been added.\n",
      "BICARBONATE has been added.\n",
      "DB has been added.\n",
      "IB has been added.\n",
      "TB has been added.\n",
      "CRP has been added.\n",
      "CHLORIDE has been added.\n",
      "CK has been added.\n",
      "CREATININE has been added.\n",
      "GLUCOSE has been added.\n",
      "Lipase has been added.\n",
      "POTASSIUM has been added.\n",
      "SODIUM has been added.\n",
      "UREANITROGEN has been added.\n",
      "BANDS has been added.\n",
      "fdp has been added.\n",
      "fib has been added.\n",
      "HEMATOCRIT has been added.\n",
      "HEMOGLOBIN has been added.\n",
      "INR(PT) has been added.\n",
      "MCH has been added.\n",
      "MCHC has been added.\n",
      "MCV has been added.\n",
      "Neutrophils has been added.\n",
      "PLATELETCOUNT has been added.\n",
      "PT has been added.\n",
      "PTT has been added.\n",
      "WBCCOUNT has been added.\n",
      "WHITEBLOODCELLS has been added.\n",
      "Wall time: 5min 39s\n"
     ]
    }
   ],
   "source": [
    "%%time\n",
    "for itemid,lab_item in zip(labitems.itemid,labitems.lab_items):\n",
    "    #print(itemid)\n",
    "    #print(lab_item)\n",
    "    add_vari_labevents_id_hdf(itemid,lab_item)\n",
    "    print(lab_item+\" has been added.\")"
   ]
  },
  {
   "cell_type": "code",
   "execution_count": 21,
   "metadata": {},
   "outputs": [],
   "source": [
    "\"\"\"\n",
    "从chartevents 表中提取首次指标，加入总表\n",
    "chart_id_list:列表，所需项目的ITEMID集合\n",
    "variable_name:目标表格中新变量(新列)的名称\n",
    "注意事项：1、总表需要定义成全局变量，并且需要根据具体情况改名\n",
    "          2、仅适用vaex DataFrame格式数据表\n",
    "\"\"\"\n",
    "def add_vari_chartevents(chart_id_list,variable_name):\n",
    "    \n",
    "    global icu_trauma\n",
    "     \n",
    "    chart = chartevents_trauma[chartevents_trauma[\"ITEMID\"].isin(chart_id_list)]\n",
    "    \n",
    "    chart_df = chart.to_pandas_df()\n",
    "\n",
    "    # bpd_chart_df.info()\n",
    "\n",
    "    chart_df[[\"CHARTTIME\",\"STORETIME\"]] = chart_df[[\"CHARTTIME\",\"STORETIME\"]].apply(lambda x:pd.to_datetime(x))\n",
    "   \n",
    "    first_time = chart_df.groupby(\"HADM_ID\").agg({\"CHARTTIME\":\"min\"})\n",
    "\n",
    "    events=pd.merge(first_time,chart_df,on=\"CHARTTIME\",how=\"left\")[[\"HADM_ID\",\"VALUENUM\"]]\n",
    "\n",
    "    events.drop_duplicates(subset=[\"HADM_ID\"],inplace=True)\n",
    "    \n",
    "    icu_trauma = pd.merge(icu_trauma,events,on=\"HADM_ID\",how=\"left\")\n",
    "\n",
    "    icu_trauma.rename(columns={\"VALUENUM\":variable_name},inplace=True)"
   ]
  },
  {
   "cell_type": "code",
   "execution_count": 11,
   "metadata": {},
   "outputs": [],
   "source": [
    "chartitems = pd.read_excel(\"chartitems_id.xlsx\")"
   ]
  },
  {
   "cell_type": "code",
   "execution_count": 12,
   "metadata": {},
   "outputs": [
    {
     "data": {
      "text/plain": [
       "{'HeartRate': '[211,220045]',\n",
       " 'SysBP': '[51,442,455,6701,220179,220050]',\n",
       " 'DiasBP': '[8368,8440,8441,8555,220180,220051]',\n",
       " 'MeanBP': '[456,52,6702,443,220052,220181,225312]',\n",
       " 'RespRate': '[615,618,220210,224690]',\n",
       " 'TempF': '[223761,678]',\n",
       " 'TempC': '[223762,676]',\n",
       " 'SpO2': '[646,220277]',\n",
       " 'Glucose': '[807,811,1529,3745,3744,225664,220621,226537]'}"
      ]
     },
     "execution_count": 12,
     "metadata": {},
     "output_type": "execute_result"
    }
   ],
   "source": [
    "dict(zip(chartitems.chart_items,chartitems.itemid))"
   ]
  },
  {
   "cell_type": "code",
   "execution_count": 13,
   "metadata": {},
   "outputs": [],
   "source": [
    "chartitems_dict = {'HeartRate': [211,220045],\n",
    "                   'SysBP': [51,442,455,6701,220179,220050],\n",
    "                   'DiasBP': [8368,8440,8441,8555,220180,220051],\n",
    "                   'MeanBP': [456,52,6702,443,220052,220181,225312],\n",
    "                   'RespRate': [615,618,220210,224690],\n",
    "                   'TempF': [223761,678],\n",
    "                   'TempC': [223762,676],\n",
    "                   'SpO2': [646,220277],\n",
    "                   'Glucose': [807,811,1529,3745,3744,225664,220621,226537]\n",
    "                   }"
   ]
  },
  {
   "cell_type": "code",
   "execution_count": 22,
   "metadata": {},
   "outputs": [
    {
     "name": "stdout",
     "output_type": "stream",
     "text": [
      "HeartRate has been added.\n",
      "SysBP has been added.\n",
      "DiasBP has been added.\n",
      "MeanBP has been added.\n",
      "RespRate has been added.\n",
      "TempF has been added.\n",
      "TempC has been added.\n",
      "SpO2 has been added.\n",
      "Glucose has been added.\n",
      "Wall time: 39min 26s\n"
     ]
    }
   ],
   "source": [
    "%%time\n",
    "for chart_item,itemid in chartitems_dict.items():\n",
    "    #print(itemid)\n",
    "    #print(chart_item)\n",
    "    add_vari_chartevents(itemid,chart_item)\n",
    "    print(chart_item+\" has been added.\")"
   ]
  },
  {
   "cell_type": "code",
   "execution_count": 26,
   "metadata": {},
   "outputs": [
    {
     "data": {
      "text/plain": [
       "(1032, 132)"
      ]
     },
     "execution_count": 26,
     "metadata": {},
     "output_type": "execute_result"
    }
   ],
   "source": [
    "icu_trauma.shape"
   ]
  },
  {
   "cell_type": "code",
   "execution_count": 27,
   "metadata": {},
   "outputs": [],
   "source": [
    "icu_trauma.to_csv(\"icu_trauma.csv\",index=0)"
   ]
  },
  {
   "cell_type": "code",
   "execution_count": null,
   "metadata": {},
   "outputs": [],
   "source": []
  }
 ],
 "metadata": {
  "kernelspec": {
   "display_name": "Python 3",
   "language": "python",
   "name": "python3"
  },
  "language_info": {
   "codemirror_mode": {
    "name": "ipython",
    "version": 3
   },
   "file_extension": ".py",
   "mimetype": "text/x-python",
   "name": "python",
   "nbconvert_exporter": "python",
   "pygments_lexer": "ipython3",
   "version": "3.8.3"
  }
 },
 "nbformat": 4,
 "nbformat_minor": 4
}
