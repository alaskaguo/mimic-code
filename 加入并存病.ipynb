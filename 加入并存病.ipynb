{
 "cells": [
  {
   "cell_type": "code",
   "execution_count": 1,
   "metadata": {},
   "outputs": [],
   "source": [
    "import pandas as pd\n",
    "import os\n",
    "import re\n",
    "path = r\"F:\\myresearch\\MIMICIIIsupport\"\n",
    "os.chdir(path)"
   ]
  },
  {
   "cell_type": "code",
   "execution_count": 106,
   "metadata": {},
   "outputs": [],
   "source": [
    "d_icd_dia = pd.read_csv(\"D_ICD_DIAGNOSES.csv\")\n",
    "admission = pd.read_csv(\"admission_adult.csv\",parse_dates=[4,5,6,15,16,22,23,24,25])\n",
    "dias = pd.read_csv(\"DIAGNOSES_ICD.csv\")"
   ]
  },
  {
   "cell_type": "code",
   "execution_count": 3,
   "metadata": {},
   "outputs": [],
   "source": [
    "def GetComorbidities(comorbidity_codes,comorbidity_column_name):\n",
    "    \n",
    "    \"\"\"\n",
    "    抽取合并症数据\n",
    "    comorbidity_codes:list or array or pd.Seires,根据github MIMIC代码获得,每个合并症需单独处理\n",
    "    comorbidity_column_name:str,并入总表的列名，参照github代码取简称,如\"chf\"\n",
    "    \"\"\"\n",
    "    comor = pd.DataFrame(columns=[\"HADM_ID\",comorbidity_column_name])\n",
    "\n",
    "    hadm_ids = dias[\"HADM_ID\"].drop_duplicates()\n",
    "\n",
    "    for hadm_id in hadm_ids:\n",
    "\n",
    "        #print(hadm_id)\n",
    "        df = pd.DataFrame()\n",
    "        \n",
    "        df.loc[0,\"HADM_ID\"] = hadm_id\n",
    "\n",
    "\n",
    "        hadm_dias = dias[dias[\"HADM_ID\"] == hadm_id][\"ICD9_CODE\"]\n",
    "\n",
    "        contain =  1.in(comorbidity_codes.isin(hadm_dias).map({False:0,True:1}).values)\n",
    "\n",
    "        #print(contain)\n",
    "        \n",
    "        if contain == True:\n",
    "            df.loc[0,comorbidity_column_name] = 1\n",
    "        else:        \n",
    "            df.loc[0,comorbidity_column_name] = 0\n",
    "        \n",
    "        comor = comor.append(df)\n",
    "        #comorbidity_table = pd.merge(admission[\"HADM_ID\"],comor,on=\"HADM_ID\") \n",
    "    return comor"
   ]
  },
  {
   "cell_type": "code",
   "execution_count": 153,
   "metadata": {},
   "outputs": [],
   "source": [
    "##充血性心衰\n",
    "chf_codes = d_icd_dia[(d_icd_dia.ICD9_CODE.isin(['39891','40201','40211','40291','40401','40403','40411','40413','40491','40493'])) |\n",
    "          (d_icd_dia[\"ICD9_CODE\"].apply(lambda x:x[:4]).isin(['4254','4255','4257','4258','4259'])) |\n",
    "          (d_icd_dia[\"ICD9_CODE\"].apply(lambda x:x[:3]).isin(['428']))][\"ICD9_CODE\"]## 心律失常\n",
    "arrhy_codes = d_icd_dia[(d_icd_dia.ICD9_CODE.isin(['42613','42610','42612','99601','99604'])) |\n",
    "          (d_icd_dia[\"ICD9_CODE\"].apply(lambda x:x[:4]).isin(['4260','4267','4269','4270','4271','4272','4273','4274','4276','4278','4279','7850','V450','V533']))][\"ICD9_CODE\"]\n",
    "\n",
    "##瓣膜病\n",
    "valve_codes = d_icd_dia[\n",
    "          (d_icd_dia[\"ICD9_CODE\"].apply(lambda x:x[:4]).isin(['0932','7463','7464','7465','7466','V422','V433'])) |\n",
    "          (d_icd_dia[\"ICD9_CODE\"].apply(lambda x:x[:3]).isin(['394','395','396','397','424']))][\"ICD9_CODE\"]\n",
    "\n",
    "## 肺循环障碍\n",
    "pulmcirc_codes = d_icd_dia[#(d_icd_dia.ICD9_CODE.isin(['39891','40201','40211','40291','40401','40403','40411','40413','40491','40493'])) |\n",
    "          (d_icd_dia[\"ICD9_CODE\"].apply(lambda x:x[:4]).isin(['4150','4151','4170','4178','4179'])) |\n",
    "          (d_icd_dia[\"ICD9_CODE\"].apply(lambda x:x[:3]).isin(['416']))][\"ICD9_CODE\"]\n",
    "\n",
    "## 周围血管病\n",
    "perivasc_codes = d_icd_dia[#(d_icd_dia.ICD9_CODE.isin(['39891','40201','40211','40291','40401','40403','40411','40413','40491','40493'])) |\n",
    "          (d_icd_dia[\"ICD9_CODE\"].apply(lambda x:x[:4]).isin(['0930','4373','4431','4432','4438','4439','4471','5571','5579','V434'])) |\n",
    "          (d_icd_dia[\"ICD9_CODE\"].apply(lambda x:x[:3]).isin(['440','441']))][\"ICD9_CODE\"]\n",
    "\n",
    "## 简单高血压\n",
    "htn_codes = d_icd_dia[(d_icd_dia[\"ICD9_CODE\"].apply(lambda x:x[:3]).isin(['401']))][\"ICD9_CODE\"]\n",
    "\n",
    "##复杂高血压\n",
    "htncx_codes = d_icd_dia[(d_icd_dia[\"ICD9_CODE\"].apply(lambda x:x[:3]).isin(['402','403','404','405']))][\"ICD9_CODE\"]\n",
    "\n",
    "##瘫痪\n",
    "para_codes = d_icd_dia[#(d_icd_dia.ICD9_CODE.isin(['39891','40201','40211','40291','40401','40403','40411','40413','40491','40493'])) |\n",
    "          (d_icd_dia[\"ICD9_CODE\"].apply(lambda x:x[:4]).isin(['3341','3440','3441','3442','3443','3444','3445','3446','3449'])) |\n",
    "          (d_icd_dia[\"ICD9_CODE\"].apply(lambda x:x[:3]).isin(['342','343']))][\"ICD9_CODE\"]\n",
    "\n",
    "##其他神经疾病\n",
    "neuro_codes = d_icd_dia[#(d_icd_dia.ICD9_CODE.isin(['39891','40201','40211','40291','40401','40403','40411','40413','40491','40493'])) |\n",
    "          (d_icd_dia[\"ICD9_CODE\"].apply(lambda x:x[:4]).isin(['3319','3320','3321','3334','3335','3362','3481','3483','7803','7843'])) |\n",
    "          (d_icd_dia[\"ICD9_CODE\"].apply(lambda x:x[:3]).isin(['334','335','340','341','345']))][\"ICD9_CODE\"]\n",
    "\n",
    "## COPD\n",
    "chrnlung_codes = d_icd_dia[(d_icd_dia[\"ICD9_CODE\"].apply(lambda x:x[:4]).isin(['4168','4169','5064','5081','5088'])) |\n",
    "                           (d_icd_dia[\"ICD9_CODE\"].apply(lambda x:x[:3]).isin(['490','491','492','493','494','495','496','500','501','502','503','504','505']))][\"ICD9_CODE\"]\n",
    "\n",
    "##糖尿病\n",
    "dm_codes = d_icd_dia[(d_icd_dia[\"ICD9_CODE\"].apply(lambda x:x[:4]).isin(['2500','2501','2502','2503']))][\"ICD9_CODE\"]\n",
    "\n",
    "## 糖尿病慢性并发症\n",
    "dmcx_codes = d_icd_dia[(d_icd_dia[\"ICD9_CODE\"].apply(lambda x:x[:4]).isin(['2504','2505','2506','2507','2508','2509']))][\"ICD9_CODE\"]\n",
    "\n",
    "##甲减\n",
    "hypothy_codes = d_icd_dia[(d_icd_dia[\"ICD9_CODE\"].apply(lambda x:x[:4]).isin(['2409','2461','2468'])) |\n",
    "  (d_icd_dia[\"ICD9_CODE\"].apply(lambda x:x[:3]).isin(['243','244']))][\"ICD9_CODE\"]\n",
    "\n",
    "# 肾衰\n",
    "renlfail_codes = d_icd_dia[(d_icd_dia.ICD9_CODE.isin(['40301','40311','40391','40402','40403','40412','40413','40492','40493'])) |\n",
    "                           (d_icd_dia[\"ICD9_CODE\"].apply(lambda x:x[:4]).isin(['5880','V420','V451'])) |\n",
    "                           (d_icd_dia[\"ICD9_CODE\"].apply(lambda x:x[:3]).isin(['585','586','V56']))][\"ICD9_CODE\"]\n",
    "\n",
    "##肝病\n",
    "liver_codes = d_icd_dia[(d_icd_dia.ICD9_CODE.isin(['07022','07023','07032','07033','07044','07054'])) |\n",
    "  (d_icd_dia[\"ICD9_CODE\"].apply(lambda x:x[:4]).isin(['0706','0709','4560','4561','4562','5722','5723','5724','5728','5733','5734','5738','5739','V427'])) |\n",
    "  (d_icd_dia[\"ICD9_CODE\"].apply(lambda x:x[:3]).isin(['570','571']))][\"ICD9_CODE\"]\n",
    "\n",
    "   \n",
    "##消化性溃疡\n",
    "ulcer_codes = d_icd_dia[(d_icd_dia[\"ICD9_CODE\"].apply(lambda x:x[:4]).isin(['5317','5319','5327','5329','5337','5339','5347','5349']))][\"ICD9_CODE\"]\n",
    "   #ulcer     /* Chronic Peptic ulcer disease (includes bleeding only if obstruction is also present) */\n",
    "\n",
    "##艾滋病\n",
    "aids_codes = d_icd_dia[(d_icd_dia[\"ICD9_CODE\"].apply(lambda x:x[:3]).isin(['042','043','044']))][\"ICD9_CODE\"]\n",
    "   \n",
    "\n",
    "##淋巴瘤\n",
    "lymph_codes = d_icd_dia[(d_icd_dia[\"ICD9_CODE\"].apply(lambda x:x[:4]).isin(['2030','2386'])) |\n",
    "  (d_icd_dia[\"ICD9_CODE\"].apply(lambda x:x[:3]).isin(['200','201','202']))][\"ICD9_CODE\"]\n",
    "\n",
    "##转移性肿瘤\n",
    "mets_codes = d_icd_dia[(d_icd_dia[\"ICD9_CODE\"].apply(lambda x:x[:3]).isin(['196','197','198','199']))][\"ICD9_CODE\"]\n",
    "\n",
    "## 无转移实体瘤\n",
    "tumor_codes = d_icd_dia[(d_icd_dia[\"ICD9_CODE\"].apply(lambda x:x[:3]).isin(['140','141','142','143','144','145','146','147','148','149','150','151','152'\n",
    "                                                                            ,'153','154','155','156','157','158','159','160','161','162','163','164','165'\n",
    "                                                                            ,'166','167','168','169','170','171','172','174','175','176','177','178','179'\n",
    "                                                                            ,'180','181','182','183','184','185','186','187','188','189','190','191','192'\n",
    "                                                                            ,'193','194','195']))][\"ICD9_CODE\"]\n",
    "\n",
    "##结缔组织病\n",
    "arth_codes = d_icd_dia[(d_icd_dia.ICD9_CODE.isin(['72889','72930'])) |\n",
    "                       (d_icd_dia[\"ICD9_CODE\"].apply(lambda x:x[:4]).isin(['7010','7100','7101','7102','7103','7104','7108','7109','7112','7193','7285'])) |\n",
    "                       (d_icd_dia[\"ICD9_CODE\"].apply(lambda x:x[:3]).isin(['446','714','720','725']))][\"ICD9_CODE\"]\n",
    "\n",
    "##凝血障碍\n",
    "coag_codes = d_icd_dia[(d_icd_dia[\"ICD9_CODE\"].apply(lambda x:x[:4]).isin(['2871','2873','2874','2875'])) |\n",
    "  (d_icd_dia[\"ICD9_CODE\"].apply(lambda x:x[:3]).isin(['286']))][\"ICD9_CODE\"]\n",
    "\n",
    "##肥胖\n",
    "obese_codes = d_icd_dia[(d_icd_dia[\"ICD9_CODE\"].apply(lambda x:x[:4]).isin(['2780']))][\"ICD9_CODE\"]\n",
    "\n",
    "##减肥？\n",
    "wghtloss_codes = d_icd_dia[(d_icd_dia[\"ICD9_CODE\"].apply(lambda x:x[:4]).isin(['7832','7994'])) |\n",
    "  (d_icd_dia[\"ICD9_CODE\"].apply(lambda x:x[:3]).isin(['260','261','262','263']))][\"ICD9_CODE\"]\n",
    "\n",
    "##水电解质紊乱\n",
    "lytes_codes = d_icd_dia[(d_icd_dia[\"ICD9_CODE\"].apply(lambda x:x[:4]).isin(['2536'])) |\n",
    "  (d_icd_dia[\"ICD9_CODE\"].apply(lambda x:x[:3]).isin(['276']))][\"ICD9_CODE\"]\n",
    "\n",
    "##失血\n",
    "bldloss_codes = d_icd_dia[(d_icd_dia[\"ICD9_CODE\"].apply(lambda x:x[:4]).isin(['2800']))][\"ICD9_CODE\"]\n",
    "\n",
    "##贫血\n",
    "amemdef_codes = d_icd_dia[(d_icd_dia[\"ICD9_CODE\"].apply(lambda x:x[:4]).isin(['2801','2808','2809'])) |\n",
    "  (d_icd_dia[\"ICD9_CODE\"].apply(lambda x:x[:3]).isin(['281']))][\"ICD9_CODE\"]\n",
    "\n",
    "##酗酒\n",
    "alcohol_codes = d_icd_dia[(d_icd_dia[\"ICD9_CODE\"].apply(lambda x:x[:4]).isin(['2652','2911','2912','2913','2915','2918','2919','3030','3039','3050','3575','4255','5353','5710','5711','5712','5713','V113'])) |\n",
    "  (d_icd_dia[\"ICD9_CODE\"].apply(lambda x:x[:3]).isin(['980']))][\"ICD9_CODE\"]\n",
    "\n",
    "##药物滥用\n",
    "drug_codes = d_icd_dia[(d_icd_dia.ICD9_CODE.isin(['V6542'])) |\n",
    "                 (d_icd_dia[\"ICD9_CODE\"].apply(lambda x:x[:4]).isin(['3052','3053','3054','3055','3056','3057','3058','3059'])) |\n",
    "                 (d_icd_dia[\"ICD9_CODE\"].apply(lambda x:x[:3]).isin(['292','304']))][\"ICD9_CODE\"]\n",
    "\n",
    "##精神疾病\n",
    "psych_codes = d_icd_dia[(d_icd_dia.ICD9_CODE.isin(['29604','29614','29644','29654'])) |\n",
    "                        (d_icd_dia[\"ICD9_CODE\"].apply(lambda x:x[:4]).isin(['2938'])) |\n",
    "                        (d_icd_dia[\"ICD9_CODE\"].apply(lambda x:x[:3]).isin(['295','297','298']))][\"ICD9_CODE\"]\n",
    "\n",
    "##抑郁症\n",
    "depress_codes = d_icd_dia[(d_icd_dia[\"ICD9_CODE\"].apply(lambda x:x[:4]).isin(['2962','2963','2965','3004'])) |\n",
    "  (d_icd_dia[\"ICD9_CODE\"].apply(lambda x:x[:3]).isin(['309','311']))][\"ICD9_CODE\"]"
   ]
  },
  {
   "cell_type": "code",
   "execution_count": 5,
   "metadata": {},
   "outputs": [],
   "source": [
    "codes_list = [chf_codes,arrhy_codes,valve_codes,pulmcirc_codes,perivasc_codes,htn_codes,htncx_codes,para_codes,neuro_codes,chrnlung_codes,dm_codes,dmcx_codes,hypothy_codes,\n",
    "              renlfail_codes,liver_codes,ulcer_codes,aids_codes,lymph_codes,mets_codes,tumor_codes,arth_codes,coag_codes,obese_codes,wghtloss_codes,lytes_codes,bldloss_codes,\n",
    "              amemdef_codes,alcohol_codes,drug_codes,psych_codes,depress_codes]\n",
    "column_name_list = [\"chf\",\"arrhy\",\"valve\",\"pulmcirc\",\"perivasc\",\"htn\",\"htncx\",\"para\",\"neuro\",\"chrnlung\",\"dm\",\"dmcx\",\"hypothy\",\n",
    "                    \"renlfail\",\"liver\",\"ulcer\",\"aids\",\"lymph\",\"mets\",\"tumor\",\"arth\",\"coag\",\"obese\",\"wghtloss\",\"lytes\",\"bldloss\",\n",
    "                    \"amemdef\",\"alcohol\",\"drug\",\"psych\",\"depress\"]"
   ]
  },
  {
   "cell_type": "code",
   "execution_count": 8,
   "metadata": {},
   "outputs": [],
   "source": [
    "def AddComorbidity(comorbidity_codes,comorbidity_column_name):\n",
    "    \"\"\"\n",
    "    codes:list of comorbidites icd9_id \n",
    "    #column_name:name of column in the admission table\n",
    "    \"\"\"\n",
    "    global admission\n",
    "    admission = pd.merge(admission,GetComorbidities(comorbidity_codes,comorbidity_column_name),on=\"HADM_ID\")\n",
    "    return admission"
   ]
  },
  {
   "cell_type": "code",
   "execution_count": 124,
   "metadata": {},
   "outputs": [],
   "source": [
    "%%time\n",
    "test = pd.DataFrame(dias.groupby(\"HADM_ID\")[\"ICD9_CODE\"],columns=[\"HADM_ID\",\"ICD9_CODES\"])\n",
    "\n",
    "%%time\n",
    "test[column_name_list[10]] = test[\"ICD9_CODES\"].apply(lambda x:1.in(x.isin(codes_list[10])).map({False:0,True:1}).values)\n",
    "\n",
    "%%time\n",
    "for i in range(len(codes_list)):\n",
    "    \n",
    "    test[column_name_list[i]] = test[\"ICD9_CODES\"].apply(lambda x:1.in(x.isin(codes_list[i])).map({False:0,True:1}).values)\n",
    "    print(column_name_list[i]+\" was added.\")\n",
    "\n",
    "test[\"HADM_ID\"] = test[\"HADM_ID\"].astype(\"int\")\n",
    "\n",
    "admission[\"HADM_ID\"] = admission[\"HADM_ID\"].astype(\"int\")\n",
    "\n",
    "admission_1 = pd.merge(admission,test,on=\"HADM_ID\")\n",
    "\n",
    "admission_1.to_csv(\"admission_with_comorbidity.csv\")"
   ]
  },
  {
   "cell_type": "code",
   "execution_count": 193,
   "metadata": {},
   "outputs": [
    {
     "data": {
      "text/plain": [
       "(50796, 63)"
      ]
     },
     "execution_count": 193,
     "metadata": {},
     "output_type": "execute_result"
    }
   ],
   "source": [
    "admission_1.shape"
   ]
  },
  {
   "cell_type": "code",
   "execution_count": 188,
   "metadata": {},
   "outputs": [],
   "source": [
    "chf = pd.DataFrame(dias.groupby(\"HADM_ID\")[\"ICD9_CODE\"],columns=[\"HADM_ID\",\"ICD9_CODES\"])"
   ]
  },
  {
   "cell_type": "code",
   "execution_count": 189,
   "metadata": {},
   "outputs": [
    {
     "name": "stdout",
     "output_type": "stream",
     "text": [
      "Wall time: 1min 21s\n"
     ]
    }
   ],
   "source": [
    "%%time\n",
    "chf[\"chf\"] = chf[\"ICD9_CODES\"].apply(lambda x:1.in(x.isin(chf_codes).map({False:0,True:1}).values))"
   ]
  },
  {
   "cell_type": "code",
   "execution_count": 190,
   "metadata": {},
   "outputs": [],
   "source": [
    "admission_2 = pd.merge(admission,chf,on=\"HADM_ID\")"
   ]
  },
  {
   "cell_type": "code",
   "execution_count": 147,
   "metadata": {},
   "outputs": [
    {
     "name": "stdout",
     "output_type": "stream",
     "text": [
      "Wall time: 11.8 s\n"
     ]
    }
   ],
   "source": [
    "%%time\n",
    "dia_sum = pd.DataFrame(dias.groupby(\"HADM_ID\")[\"ICD9_CODE\"],columns=[\"HADM_ID\",\"ICD9_CODES\"])"
   ]
  },
  {
   "cell_type": "code",
   "execution_count": 165,
   "metadata": {},
   "outputs": [
    {
     "data": {
      "text/plain": [
       "False"
      ]
     },
     "execution_count": 165,
     "metadata": {},
     "output_type": "execute_result"
    }
   ],
   "source": [
    "1 in(chf_codes.isin(dia_sum[\"ICD9_CODES\"][0].values).map({False:0,True:1}).values)"
   ]
  },
  {
   "cell_type": "code",
   "execution_count": 180,
   "metadata": {},
   "outputs": [
    {
     "data": {
      "text/html": [
       "<div>\n",
       "<style scoped>\n",
       "    .dataframe tbody tr th:only-of-type {\n",
       "        vertical-align: middle;\n",
       "    }\n",
       "\n",
       "    .dataframe tbody tr th {\n",
       "        vertical-align: top;\n",
       "    }\n",
       "\n",
       "    .dataframe thead th {\n",
       "        text-align: right;\n",
       "    }\n",
       "</style>\n",
       "<table border=\"1\" class=\"dataframe\">\n",
       "  <thead>\n",
       "    <tr style=\"text-align: right;\">\n",
       "      <th></th>\n",
       "      <th>0.0</th>\n",
       "      <th>1.0</th>\n",
       "    </tr>\n",
       "  </thead>\n",
       "  <tbody>\n",
       "    <tr>\n",
       "      <th>chf_x</th>\n",
       "      <td>36252</td>\n",
       "      <td>14544</td>\n",
       "    </tr>\n",
       "    <tr>\n",
       "      <th>chf_y</th>\n",
       "      <td>36252</td>\n",
       "      <td>14544</td>\n",
       "    </tr>\n",
       "    <tr>\n",
       "      <th>depress</th>\n",
       "      <td>45608</td>\n",
       "      <td>5188</td>\n",
       "    </tr>\n",
       "  </tbody>\n",
       "</table>\n",
       "</div>"
      ],
      "text/plain": [
       "           0.0    1.0\n",
       "chf_x    36252  14544\n",
       "chf_y    36252  14544\n",
       "depress  45608   5188"
      ]
     },
     "execution_count": 180,
     "metadata": {},
     "output_type": "execute_result"
    }
   ],
   "source": [
    "admission_1.iloc[:,[30,33,62]].apply(lambda x:x.value_counts()).T"
   ]
  },
  {
   "cell_type": "code",
   "execution_count": null,
   "metadata": {},
   "outputs": [],
   "source": []
  }
 ],
 "metadata": {
  "kernelspec": {
   "display_name": "Python 3",
   "language": "python",
   "name": "python3"
  },
  "language_info": {
   "codemirror_mode": {
    "name": "ipython",
    "version": 3
   },
   "file_extension": ".py",
   "mimetype": "text/x-python",
   "name": "python",
   "nbconvert_exporter": "python",
   "pygments_lexer": "ipython3",
   "version": "3.8.3"
  }
 },
 "nbformat": 4,
 "nbformat_minor": 4
}
