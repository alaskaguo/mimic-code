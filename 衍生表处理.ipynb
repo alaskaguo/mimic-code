{
 "cells": [
  {
   "cell_type": "code",
   "execution_count": 17,
   "metadata": {},
   "outputs": [],
   "source": [
    "import pandas as pd\n",
    "import numpy as np\n",
    "import os\n",
    "import vaex\n",
    "from datetime import * "
   ]
  },
  {
   "cell_type": "code",
   "execution_count": 151,
   "metadata": {},
   "outputs": [],
   "source": [
    "path = r\"F:\\myresearch\\MIMICIIIsupport\\tables\"\n",
    "os.chdir(path)"
   ]
  },
  {
   "cell_type": "code",
   "execution_count": 217,
   "metadata": {},
   "outputs": [],
   "source": [
    "icustay_orign = pd.read_csv(\"icustay_detail.csv\",parse_dates=['dod', 'admittime','dischtime','intime', 'outtime'])"
   ]
  },
  {
   "cell_type": "code",
   "execution_count": 218,
   "metadata": {},
   "outputs": [],
   "source": [
    "icustay = pd.read_csv(\"icustay_detail.csv\",parse_dates=['dod', 'admittime','dischtime','intime', 'outtime'])"
   ]
  },
  {
   "cell_type": "code",
   "execution_count": 219,
   "metadata": {},
   "outputs": [
    {
     "name": "stdout",
     "output_type": "stream",
     "text": [
      "<class 'pandas.core.frame.DataFrame'>\n",
      "RangeIndex: 61051 entries, 0 to 61050\n",
      "Data columns (total 19 columns):\n",
      " #   Column                Non-Null Count  Dtype         \n",
      "---  ------                --------------  -----         \n",
      " 0   subject_id            61051 non-null  int64         \n",
      " 1   hadm_id               61051 non-null  int64         \n",
      " 2   icustay_id            61051 non-null  int64         \n",
      " 3   gender                61051 non-null  object        \n",
      " 4   dod                   23889 non-null  datetime64[ns]\n",
      " 5   admittime             61051 non-null  datetime64[ns]\n",
      " 6   dischtime             61051 non-null  datetime64[ns]\n",
      " 7   los_hospital          61051 non-null  float64       \n",
      " 8   admission_age         61051 non-null  float64       \n",
      " 9   ethnicity             61051 non-null  object        \n",
      " 10  ethnicity_grouped     61051 non-null  object        \n",
      " 11  hospital_expire_flag  61051 non-null  int64         \n",
      " 12  hospstay_seq          61051 non-null  int64         \n",
      " 13  first_hosp_stay       61051 non-null  bool          \n",
      " 14  intime                61051 non-null  datetime64[ns]\n",
      " 15  outtime               61041 non-null  datetime64[ns]\n",
      " 16  los_icu               61041 non-null  float64       \n",
      " 17  icustay_seq           61051 non-null  int64         \n",
      " 18  first_icu_stay        61051 non-null  bool          \n",
      "dtypes: bool(2), datetime64[ns](5), float64(3), int64(6), object(3)\n",
      "memory usage: 8.0+ MB\n"
     ]
    }
   ],
   "source": [
    "icustay_orign.info()"
   ]
  },
  {
   "cell_type": "code",
   "execution_count": 220,
   "metadata": {},
   "outputs": [],
   "source": [
    "## 计算并加入生存信息\n",
    "\n",
    "icustay.loc[:,\"survive_days\"] = (icustay.dod-icustay.admittime).apply(lambda x:x.days+1)\n",
    "\n",
    "icustay.loc[:,\"survive_30days\"] = icustay[\"survive_days\"].apply(lambda x: 0 if (x>30 or np.isnan(x)) else 1)\n",
    "\n",
    "icustay.loc[:,\"survive_90days\"] = icustay[\"survive_days\"].apply(lambda x: 0 if (x>90 or np.isnan(x)) else 1)\n",
    "\n",
    "icustay.loc[:,\"survive_180days\"] = icustay[\"survive_days\"].apply(lambda x: 0 if (x>180 or np.isnan(x)) else 1)\n",
    "\n",
    "icustay.loc[:,\"survive_365days\"] = icustay[\"survive_days\"].apply(lambda x: 0 if (x>365 or np.isnan(x)) else 1)\n",
    "\n",
    "icustay.loc[:,\"not_survive\"] =  icustay[\"survive_days\"].apply(lambda x: 0 if (np.isnan(x)) else 1)"
   ]
  },
  {
   "cell_type": "code",
   "execution_count": 221,
   "metadata": {},
   "outputs": [
    {
     "data": {
      "text/html": [
       "<div>\n",
       "<style scoped>\n",
       "    .dataframe tbody tr th:only-of-type {\n",
       "        vertical-align: middle;\n",
       "    }\n",
       "\n",
       "    .dataframe tbody tr th {\n",
       "        vertical-align: top;\n",
       "    }\n",
       "\n",
       "    .dataframe thead th {\n",
       "        text-align: right;\n",
       "    }\n",
       "</style>\n",
       "<table border=\"1\" class=\"dataframe\">\n",
       "  <thead>\n",
       "    <tr style=\"text-align: right;\">\n",
       "      <th></th>\n",
       "      <th>survive_30days</th>\n",
       "      <th>survive_90days</th>\n",
       "      <th>survive_180days</th>\n",
       "      <th>survive_365days</th>\n",
       "      <th>not_survive</th>\n",
       "    </tr>\n",
       "  </thead>\n",
       "  <tbody>\n",
       "    <tr>\n",
       "      <th>0</th>\n",
       "      <td>53524</td>\n",
       "      <td>50250</td>\n",
       "      <td>48053</td>\n",
       "      <td>45635</td>\n",
       "      <td>37162</td>\n",
       "    </tr>\n",
       "    <tr>\n",
       "      <th>1</th>\n",
       "      <td>7527</td>\n",
       "      <td>10801</td>\n",
       "      <td>12998</td>\n",
       "      <td>15416</td>\n",
       "      <td>23889</td>\n",
       "    </tr>\n",
       "  </tbody>\n",
       "</table>\n",
       "</div>"
      ],
      "text/plain": [
       "   survive_30days  survive_90days  survive_180days  survive_365days  \\\n",
       "0           53524           50250            48053            45635   \n",
       "1            7527           10801            12998            15416   \n",
       "\n",
       "   not_survive  \n",
       "0        37162  \n",
       "1        23889  "
      ]
     },
     "execution_count": 221,
     "metadata": {},
     "output_type": "execute_result"
    }
   ],
   "source": [
    "icustay[icustay.columns[icustay.columns.str.contains(\"survive\")][1:]].apply(lambda x:x.value_counts())"
   ]
  },
  {
   "cell_type": "code",
   "execution_count": 272,
   "metadata": {},
   "outputs": [],
   "source": [
    "firstday = os.listdir(r\".\\firstday\")\n",
    "\n",
    "## 读取所有firstday表格\n",
    "first = {}\n",
    "for i in firstday:\n",
    "    first[i] = pd.read_csv(\".\\\\firstday\\\\\"+i)"
   ]
  },
  {
   "cell_type": "code",
   "execution_count": 223,
   "metadata": {},
   "outputs": [],
   "source": [
    "## 加入首日RRT情况\n",
    "icustay = pd.merge(icustay,first[firstday[5]][[\"rrt\",\"icustay_id\"]],on=\"icustay_id\",how=\"left\")\n",
    "\n",
    "## 加入首日机械通气情况\n",
    "icustay = pd.merge(icustay,first[firstday[7]][[\"vent\",\"icustay_id\"]],on=\"icustay_id\",how=\"left\")"
   ]
  },
  {
   "cell_type": "code",
   "execution_count": 224,
   "metadata": {},
   "outputs": [
    {
     "name": "stdout",
     "output_type": "stream",
     "text": [
      "(46428,)\n",
      "(57328,)\n",
      "(61051,)\n"
     ]
    }
   ],
   "source": [
    "print(icustay.subject_id.drop_duplicates().shape)\n",
    "\n",
    "print(icustay.hadm_id.drop_duplicates().shape)\n",
    "\n",
    "print(icustay.icustay_id.drop_duplicates().shape)\n",
    "\n",
    "## icustay_id是唯一"
   ]
  },
  {
   "cell_type": "code",
   "execution_count": 225,
   "metadata": {},
   "outputs": [],
   "source": [
    "## 提取首次入ICU病例\n",
    "icustay=icustay[icustay.icustay_seq==1]"
   ]
  },
  {
   "cell_type": "code",
   "execution_count": 226,
   "metadata": {},
   "outputs": [
    {
     "name": "stdout",
     "output_type": "stream",
     "text": [
      "(46428,)\n",
      "(57328,)\n",
      "(57328,)\n"
     ]
    }
   ],
   "source": [
    "print(icustay.subject_id.drop_duplicates().shape)\n",
    "\n",
    "print(icustay.hadm_id.drop_duplicates().shape)\n",
    "\n",
    "print(icustay.icustay_id.drop_duplicates().shape)\n",
    "\n",
    "## icustay_id是唯一"
   ]
  },
  {
   "cell_type": "code",
   "execution_count": 227,
   "metadata": {},
   "outputs": [],
   "source": [
    "## 加入首日尿量\n",
    "icustay = pd.merge(icustay,first[firstday[6]][[\"urineoutput\",\"icustay_id\"]],on=\"icustay_id\",how=\"left\")"
   ]
  },
  {
   "cell_type": "code",
   "execution_count": 228,
   "metadata": {},
   "outputs": [],
   "source": [
    "## 加入首日GCS评分\n",
    "first_gcs = first[firstday[2]]\n",
    "\n",
    "first_gcs[\"gcs\"] = first_gcs.gcseyes+first_gcs.gcsmotor+ first_gcs.gcsverbal\n",
    "\n",
    "icustay = pd.merge(icustay,first[firstday[2]][[\"icustay_id\",\"gcs\",\"endotrachflag\"]],on=\"icustay_id\",how=\"left\")"
   ]
  },
  {
   "cell_type": "code",
   "execution_count": 230,
   "metadata": {},
   "outputs": [],
   "source": [
    "## 加入首日化验指标\n",
    "firstlab = first[firstday[4]] \n",
    "\n",
    "firstlab.icustay_id.drop_duplicates().shape\n",
    "\n",
    "firstlab.hadm_id.drop_duplicates().shape\n",
    "\n",
    "firstlab = firstlab.groupby(\"hadm_id\").first()\n",
    "\n",
    "firstlab = firstlab.reset_index()\n",
    "\n",
    "icustay = pd.merge(icustay,firstlab,on=\"icustay_id\",how=\"left\")"
   ]
  },
  {
   "cell_type": "code",
   "execution_count": 232,
   "metadata": {},
   "outputs": [],
   "source": [
    "## 加入首日生命体征\n",
    "firstvital = first[firstday[8]].groupby(\"hadm_id\").first()\n",
    "\n",
    "firstvital = firstvital.reset_index()\n",
    "\n",
    "icustay = pd.merge(icustay,firstvital,on=\"icustay_id\",how=\"left\")"
   ]
  },
  {
   "cell_type": "code",
   "execution_count": 236,
   "metadata": {},
   "outputs": [],
   "source": [
    "## 加入体重\n",
    "firstweight = first[firstday[9]]\n",
    "\n",
    "icustay = pd.merge(icustay,firstweight[[\"weight\",\"icustay_id\"]],on=\"icustay_id\",how=\"left\")"
   ]
  },
  {
   "cell_type": "code",
   "execution_count": 237,
   "metadata": {},
   "outputs": [],
   "source": [
    "## 加入身高\n",
    "firstheight = first[firstday[3]]\n",
    "icustay = pd.merge(icustay,firstheight[[\"height\",\"icustay_id\"]],on=\"icustay_id\",how=\"left\")"
   ]
  },
  {
   "cell_type": "code",
   "execution_count": 309,
   "metadata": {},
   "outputs": [],
   "source": [
    "bga = first[firstday[1]]"
   ]
  },
  {
   "cell_type": "code",
   "execution_count": 288,
   "metadata": {},
   "outputs": [],
   "source": [
    "bg = first[firstday[0]]"
   ]
  },
  {
   "cell_type": "code",
   "execution_count": 295,
   "metadata": {},
   "outputs": [],
   "source": [
    "bg = bg[bg.specimen == \"ART\"]"
   ]
  },
  {
   "cell_type": "code",
   "execution_count": 297,
   "metadata": {},
   "outputs": [
    {
     "name": "stderr",
     "output_type": "stream",
     "text": [
      "C:\\ProgramData\\Anaconda3\\lib\\site-packages\\pandas\\core\\frame.py:3990: SettingWithCopyWarning: \n",
      "A value is trying to be set on a copy of a slice from a DataFrame\n",
      "\n",
      "See the caveats in the documentation: https://pandas.pydata.org/pandas-docs/stable/user_guide/indexing.html#returning-a-view-versus-a-copy\n",
      "  return super().drop(\n"
     ]
    }
   ],
   "source": [
    "bg.drop([\"specimen\",\"intubated\",\"ventilationrate\",\"ventilator\"],axis =1,inplace=True)"
   ]
  },
  {
   "cell_type": "code",
   "execution_count": 303,
   "metadata": {},
   "outputs": [],
   "source": [
    "bg = bg.groupby(\"icustay_id\").first()"
   ]
  },
  {
   "cell_type": "code",
   "execution_count": 317,
   "metadata": {},
   "outputs": [],
   "source": [
    "bga = bga.groupby(\"icustay_id\").first().reset_index()"
   ]
  },
  {
   "cell_type": "code",
   "execution_count": 322,
   "metadata": {},
   "outputs": [],
   "source": [
    "bga= bga[bga.specimen_pred == \"ART\"]   "
   ]
  },
  {
   "cell_type": "code",
   "execution_count": 326,
   "metadata": {},
   "outputs": [
    {
     "name": "stderr",
     "output_type": "stream",
     "text": [
      "C:\\ProgramData\\Anaconda3\\lib\\site-packages\\pandas\\core\\frame.py:3990: SettingWithCopyWarning: \n",
      "A value is trying to be set on a copy of a slice from a DataFrame\n",
      "\n",
      "See the caveats in the documentation: https://pandas.pydata.org/pandas-docs/stable/user_guide/indexing.html#returning-a-view-versus-a-copy\n",
      "  return super().drop(\n"
     ]
    }
   ],
   "source": [
    "bga.drop(['subject_id', 'hadm_id', 'charttime','specimen_pred',\n",
    "       'specimen_prob'],axis=1,inplace=True)"
   ]
  },
  {
   "cell_type": "code",
   "execution_count": 328,
   "metadata": {},
   "outputs": [],
   "source": [
    "icustay = pd.merge(icustay,bga,on=\"icustay_id\",how=\"left\")"
   ]
  },
  {
   "cell_type": "code",
   "execution_count": 343,
   "metadata": {},
   "outputs": [],
   "source": [
    "## 加入血管活性药物使用时间，小时和天数\n",
    "vasopressor_durations = pd.read_csv(r\".\\duration\\vasopressor_durations.csv\")\n",
    "\n",
    "vasopressor_time = vasopressor_durations.groupby(\"icustay_id\").duration_hours.agg(\"sum\").reset_index()\n",
    "\n",
    "vasopressor_time.loc[:,\"vasopressor_days\"] = vasopressor_time[\"duration_hours\"]/24\n",
    "\n",
    "icustay = pd.merge(icustay,vasopressor_time,on=\"icustay_id\",how=\"left\")"
   ]
  },
  {
   "cell_type": "code",
   "execution_count": 359,
   "metadata": {},
   "outputs": [],
   "source": [
    "## 加入机械通气时间，小时和天数\n",
    "ventilation_durations = pd.read_csv(r\".\\duration\\ventilation_durations.csv\")\n",
    "\n",
    "ventilation_durations = ventilation_durations[ventilation_durations.icustay_id.notna()]\n",
    "\n",
    "ventilation_durations = ventilation_durations.groupby(\"icustay_id\").duration_hours.agg(\"sum\").reset_index()\n",
    "\n",
    "ventilation_durations.columns = [\"icustay_id\",\"vent_hours\" ]\n",
    "\n",
    "ventilation_durations.loc[:,\"vent_days\"] = ventilation_durations.vent_hours/24\n",
    "\n",
    "icustay = pd.merge(icustay,ventilation_durations,on=\"icustay_id\",how=\"left\")"
   ]
  },
  {
   "cell_type": "code",
   "execution_count": 375,
   "metadata": {},
   "outputs": [],
   "source": [
    "## 加入RRT时间和次数\n",
    "crrt_durations = pd.read_csv(r\".\\duration\\crrt_durations.csv\")\n",
    "\n",
    "crrt_durations = crrt_durations[crrt_durations.icustay_id.notna()]\n",
    "\n",
    "crrt_timesum = crrt_durations.groupby(\"icustay_id\").duration_hours.agg(\"sum\").reset_index()\n",
    "\n",
    "crrt_timecount = crrt_durations.groupby(\"icustay_id\").duration_hours.agg(\"count\").reset_index()\n",
    "\n",
    "icustay = pd.merge(icustay,crrt_timecount,on=\"icustay_id\",how=\"left\")\n",
    "\n",
    "icustay = pd.merge(icustay,crrt_timesum,on=\"icustay_id\",how=\"left\")"
   ]
  },
  {
   "cell_type": "code",
   "execution_count": 396,
   "metadata": {},
   "outputs": [],
   "source": [
    "## 加入身高及体重\n",
    "\n",
    "heightweight = pd.read_csv(r\".\\demographics\\heightweight.csv\")\n",
    "\n",
    "icustay = pd.merge(icustay,heightweight[[\"icustay_id\",\"weight_first\",\"height_first\"]],on=\"icustay_id\",how=\"left\")\n",
    "\n",
    "icustay.loc[:,\"BMI\"] = icustay.weight_first/(icustay.height/100)**2"
   ]
  },
  {
   "cell_type": "code",
   "execution_count": 406,
   "metadata": {},
   "outputs": [],
   "source": [
    "## 加入7天肾衰情况\n",
    "kdi_7 = pd.read_csv(r\".\\organfailure\\kdigo_stages_7day.csv\")\n",
    "\n",
    "icustay =pd.merge(icustay,kdi_7[[\"icustay_id\",\"aki_stage_7day\",\"aki_7day\"]],on=\"icustay_id\",how=\"left\")"
   ]
  },
  {
   "cell_type": "code",
   "execution_count": 410,
   "metadata": {},
   "outputs": [],
   "source": [
    "## 加入48H肾衰情况\n",
    "kdi_48 = pd.read_csv(r\".\\organfailure\\kdigo_stages_48hr.csv\")\n",
    "\n",
    "icustay =pd.merge(icustay,kdi_48[[\"icustay_id\",\"aki_stage_48hr\",\"aki_48hr\"]],on=\"icustay_id\",how=\"left\")"
   ]
  },
  {
   "cell_type": "code",
   "execution_count": 415,
   "metadata": {},
   "outputs": [],
   "source": [
    "## 加入危重评分 三项\n",
    "sofa = pd.read_csv(r\".\\scores\\sofa.csv\")\n",
    "sapsii = pd.read_csv(r\".\\scores\\sapsii.csv\")\n",
    "apsiii = pd.read_csv(r\".\\scores\\apsiii.csv\")\n",
    "\n",
    "icustay =pd.merge(icustay,sofa[[\"icustay_id\",\"sofa\"]],on=\"icustay_id\",how=\"left\")\n",
    "\n",
    "icustay =pd.merge(icustay,sapsii[[\"icustay_id\",\"sapsii\"]],on=\"icustay_id\",how=\"left\")\n",
    "icustay =pd.merge(icustay,apsiii[[\"icustay_id\",\"apsiii\"]],on=\"icustay_id\",how=\"left\")"
   ]
  },
  {
   "cell_type": "code",
   "execution_count": 430,
   "metadata": {},
   "outputs": [],
   "source": [
    "## 加入合并症，这个表合并症少，不用这个\n",
    "\n",
    "comorbidities_ahrq_data=pd.read_csv(r\".\\comorbidities\\comorbidities_ahrq_data.csv\")\n",
    "\n",
    "comorbidities_ahrq_data[comorbidities_ahrq_data.columns[2:]].apply(lambda x:x.value_counts())"
   ]
  },
  {
   "cell_type": "code",
   "execution_count": 437,
   "metadata": {},
   "outputs": [],
   "source": [
    "## 加入合并症，这个多，用这个\n",
    "comorbidities_data =pd.read_csv(r\".\\comorbidities\\comorbidities_data.csv\")\n",
    "\n",
    "icustay = pd.merge(icustay,comorbidities_data,left_on=\"hadm_id_x\",right_on=\"hadm_id\",how=\"left\")"
   ]
  },
  {
   "cell_type": "code",
   "execution_count": null,
   "metadata": {},
   "outputs": [],
   "source": []
  },
  {
   "cell_type": "code",
   "execution_count": null,
   "metadata": {},
   "outputs": [],
   "source": []
  },
  {
   "cell_type": "code",
   "execution_count": null,
   "metadata": {},
   "outputs": [],
   "source": []
  },
  {
   "cell_type": "code",
   "execution_count": null,
   "metadata": {},
   "outputs": [],
   "source": []
  },
  {
   "cell_type": "code",
   "execution_count": 440,
   "metadata": {},
   "outputs": [],
   "source": [
    "pd.DataFrame(icustay.columns,columns=[\"column_name\"]).to_excel(\"column_names.xlsx\")"
   ]
  },
  {
   "cell_type": "code",
   "execution_count": 441,
   "metadata": {},
   "outputs": [
    {
     "data": {
      "text/plain": [
       "(57328, 173)"
      ]
     },
     "execution_count": 441,
     "metadata": {},
     "output_type": "execute_result"
    }
   ],
   "source": [
    "icustay.shape"
   ]
  },
  {
   "cell_type": "code",
   "execution_count": 442,
   "metadata": {},
   "outputs": [],
   "source": [
    "icustay.to_csv(\"icustay_final.csv\",index=None)"
   ]
  },
  {
   "cell_type": "code",
   "execution_count": null,
   "metadata": {},
   "outputs": [],
   "source": []
  }
 ],
 "metadata": {
  "kernelspec": {
   "display_name": "Python 3",
   "language": "python",
   "name": "python3"
  },
  "language_info": {
   "codemirror_mode": {
    "name": "ipython",
    "version": 3
   },
   "file_extension": ".py",
   "mimetype": "text/x-python",
   "name": "python",
   "nbconvert_exporter": "python",
   "pygments_lexer": "ipython3",
   "version": "3.8.3"
  }
 },
 "nbformat": 4,
 "nbformat_minor": 4
}
