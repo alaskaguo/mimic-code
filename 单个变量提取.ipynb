{
 "cells": [
  {
   "cell_type": "code",
   "execution_count": 35,
   "metadata": {},
   "outputs": [],
   "source": [
    "import pandas as pd\n",
    "import vaex\n",
    "import os\n",
    "import matplotlib.pyplot as plt\n",
    "import datetime\n",
    "from plotnine import *\n",
    "import re\n",
    "path = r\"D:\\datasets\\mimiciii\"\n",
    "os.chdir(path)"
   ]
  },
  {
   "cell_type": "code",
   "execution_count": 36,
   "metadata": {},
   "outputs": [],
   "source": [
    "d_lab = pd.read_csv(\"D_LABITEMS.csv.gz\")\n",
    "d_items = pd.read_csv(\"D_ITEMS.csv.gz\")\n",
    "labevents = vaex.open(\"LABEVENTS.csv.hdf5\")\n",
    "chartevents = vaex.open(\"CHARTEVENTS.csv.hdf5\")"
   ]
  },
  {
   "cell_type": "code",
   "execution_count": 37,
   "metadata": {},
   "outputs": [],
   "source": [
    "hba1c_id = 50852"
   ]
  },
  {
   "cell_type": "code",
   "execution_count": 38,
   "metadata": {},
   "outputs": [],
   "source": [
    "hba1c_table = labevents[labevents.ITEMID == hba1c_id][\"SUBJECT_ID\",\"HADM_ID\",\"CHARTTIME\",\"VALUENUM\"]"
   ]
  },
  {
   "cell_type": "code",
   "execution_count": 5,
   "metadata": {},
   "outputs": [],
   "source": [
    "#hba1c_table.export_csv(r\"F:\\myresearch\\MIMICIIIsupport\\tables\\otherlabitems\\hba1c.csv\")"
   ]
  },
  {
   "cell_type": "code",
   "execution_count": 40,
   "metadata": {},
   "outputs": [],
   "source": [
    "hba1c_max = hba1c_table.groupby(hba1c_table.SUBJECT_ID,agg=[vaex.agg.max(\"VALUENUM\")])"
   ]
  },
  {
   "cell_type": "code",
   "execution_count": 41,
   "metadata": {},
   "outputs": [],
   "source": [
    "hba1c_max = hba1c_max.to_pandas_df()"
   ]
  },
  {
   "cell_type": "code",
   "execution_count": 42,
   "metadata": {},
   "outputs": [
    {
     "data": {
      "text/html": [
       "<div>\n",
       "<style scoped>\n",
       "    .dataframe tbody tr th:only-of-type {\n",
       "        vertical-align: middle;\n",
       "    }\n",
       "\n",
       "    .dataframe tbody tr th {\n",
       "        vertical-align: top;\n",
       "    }\n",
       "\n",
       "    .dataframe thead th {\n",
       "        text-align: right;\n",
       "    }\n",
       "</style>\n",
       "<table border=\"1\" class=\"dataframe\">\n",
       "  <thead>\n",
       "    <tr style=\"text-align: right;\">\n",
       "      <th></th>\n",
       "      <th>SUBJECT_ID</th>\n",
       "      <th>VALUENUM_max</th>\n",
       "    </tr>\n",
       "  </thead>\n",
       "  <tbody>\n",
       "    <tr>\n",
       "      <th>0</th>\n",
       "      <td>88220</td>\n",
       "      <td>5.8</td>\n",
       "    </tr>\n",
       "    <tr>\n",
       "      <th>1</th>\n",
       "      <td>88518</td>\n",
       "      <td>10.7</td>\n",
       "    </tr>\n",
       "    <tr>\n",
       "      <th>2</th>\n",
       "      <td>88157</td>\n",
       "      <td>5.4</td>\n",
       "    </tr>\n",
       "    <tr>\n",
       "      <th>3</th>\n",
       "      <td>88521</td>\n",
       "      <td>5.2</td>\n",
       "    </tr>\n",
       "    <tr>\n",
       "      <th>4</th>\n",
       "      <td>88356</td>\n",
       "      <td>5.7</td>\n",
       "    </tr>\n",
       "    <tr>\n",
       "      <th>...</th>\n",
       "      <td>...</td>\n",
       "      <td>...</td>\n",
       "    </tr>\n",
       "    <tr>\n",
       "      <th>9733</th>\n",
       "      <td>17708</td>\n",
       "      <td>5.7</td>\n",
       "    </tr>\n",
       "    <tr>\n",
       "      <th>9734</th>\n",
       "      <td>599</td>\n",
       "      <td>5.5</td>\n",
       "    </tr>\n",
       "    <tr>\n",
       "      <th>9735</th>\n",
       "      <td>32262</td>\n",
       "      <td>5.5</td>\n",
       "    </tr>\n",
       "    <tr>\n",
       "      <th>9736</th>\n",
       "      <td>95860</td>\n",
       "      <td>5.5</td>\n",
       "    </tr>\n",
       "    <tr>\n",
       "      <th>9737</th>\n",
       "      <td>19160</td>\n",
       "      <td>8.2</td>\n",
       "    </tr>\n",
       "  </tbody>\n",
       "</table>\n",
       "<p>9738 rows × 2 columns</p>\n",
       "</div>"
      ],
      "text/plain": [
       "      SUBJECT_ID  VALUENUM_max\n",
       "0          88220           5.8\n",
       "1          88518          10.7\n",
       "2          88157           5.4\n",
       "3          88521           5.2\n",
       "4          88356           5.7\n",
       "...          ...           ...\n",
       "9733       17708           5.7\n",
       "9734         599           5.5\n",
       "9735       32262           5.5\n",
       "9736       95860           5.5\n",
       "9737       19160           8.2\n",
       "\n",
       "[9738 rows x 2 columns]"
      ]
     },
     "execution_count": 42,
     "metadata": {},
     "output_type": "execute_result"
    }
   ],
   "source": [
    "hba1c_max"
   ]
  },
  {
   "cell_type": "code",
   "execution_count": 9,
   "metadata": {},
   "outputs": [],
   "source": [
    "hba1c_max.columns= [\"subject_id\",\"hba1c\"]"
   ]
  },
  {
   "cell_type": "code",
   "execution_count": 11,
   "metadata": {},
   "outputs": [],
   "source": [
    "hba1c_max.to_csv(r\"F:\\myresearch\\MIMICIIIsupport\\tables\\otherlabitems\\hba1c_max.csv\")"
   ]
  },
  {
   "cell_type": "code",
   "execution_count": 12,
   "metadata": {},
   "outputs": [],
   "source": [
    "cvp_id = [220074,1103,113]"
   ]
  },
  {
   "cell_type": "code",
   "execution_count": 13,
   "metadata": {},
   "outputs": [],
   "source": [
    "cvp_table = chartevents[chartevents.ITEMID.isin(cvp_id)]"
   ]
  },
  {
   "cell_type": "code",
   "execution_count": 14,
   "metadata": {},
   "outputs": [
    {
     "data": {
      "text/plain": [
       "(1712801, 14)"
      ]
     },
     "execution_count": 14,
     "metadata": {},
     "output_type": "execute_result"
    }
   ],
   "source": [
    "cvp_table.shape"
   ]
  },
  {
   "cell_type": "code",
   "execution_count": 16,
   "metadata": {},
   "outputs": [
    {
     "data": {
      "text/plain": [
       "['ROW_ID',\n",
       " 'SUBJECT_ID',\n",
       " 'HADM_ID',\n",
       " 'ICUSTAY_ID',\n",
       " 'ITEMID',\n",
       " 'CHARTTIME',\n",
       " 'STORETIME',\n",
       " 'CGID',\n",
       " 'VALUENUM',\n",
       " 'VALUEUOM',\n",
       " 'WARNING',\n",
       " 'ERROR',\n",
       " 'RESULTSTATUS',\n",
       " 'STOPPED']"
      ]
     },
     "execution_count": 16,
     "metadata": {},
     "output_type": "execute_result"
    }
   ],
   "source": [
    "cvp_table.column_names"
   ]
  },
  {
   "cell_type": "code",
   "execution_count": 17,
   "metadata": {},
   "outputs": [
    {
     "data": {
      "text/plain": [
       "(18680,)"
      ]
     },
     "execution_count": 17,
     "metadata": {},
     "output_type": "execute_result"
    }
   ],
   "source": [
    "cvp_table.HADM_ID.unique().shape"
   ]
  },
  {
   "cell_type": "code",
   "execution_count": 21,
   "metadata": {},
   "outputs": [],
   "source": [
    "cvp_table = cvp_table[[\"SUBJECT_ID\",\"HADM_ID\",\"ICUSTAY_ID\",\"CHARTTIME\",\"VALUENUM\"]]"
   ]
  },
  {
   "cell_type": "code",
   "execution_count": 23,
   "metadata": {},
   "outputs": [],
   "source": [
    "otherlabitemspath = r\"F:\\myresearch\\MIMICIIIsupport\\tables\\otherlabitems\""
   ]
  },
  {
   "cell_type": "code",
   "execution_count": 24,
   "metadata": {},
   "outputs": [],
   "source": [
    "cvp_table.export_csv(otherlabitemspath+r\"\\cvp.csv\")"
   ]
  },
  {
   "cell_type": "code",
   "execution_count": 33,
   "metadata": {},
   "outputs": [],
   "source": [
    "cvp_stat = cvp_table.groupby(cvp_table.HADM_ID,agg={'cvp': [vaex.agg.max('VALUENUM'), \n",
    "                                                            vaex.agg.mean('VALUENUM'),\n",
    "                                                            vaex.agg.min(\"VALUENUM\"),\n",
    "                                                            vaex.agg.std(\"VALUENUM\"),\n",
    "                                                            vaex.agg.var(\"VALUENUM\"),\n",
    "                                                            \n",
    "                                                            vaex.agg.sum(\"VALUENUM\"),\n",
    "                                                            vaex.agg.count(\"VALUENUM\")]\n",
    "                                                   })"
   ]
  },
  {
   "cell_type": "code",
   "execution_count": 34,
   "metadata": {},
   "outputs": [
    {
     "data": {
      "text/html": [
       "<table>\n",
       "<thead>\n",
       "<tr><th>#                            </th><th style=\"text-align: right;\">  HADM_ID</th><th style=\"text-align: right;\">  cvp_max</th><th style=\"text-align: right;\">  cvp_mean</th><th style=\"text-align: right;\">  cvp_min</th><th style=\"text-align: right;\">  cvp_std</th><th style=\"text-align: right;\">  cvp_var</th><th style=\"text-align: right;\">  cvp_sum</th><th style=\"text-align: right;\">  cvp_count</th></tr>\n",
       "</thead>\n",
       "<tbody>\n",
       "<tr><td><i style='opacity: 0.6'>0</i></td><td style=\"text-align: right;\">   198845</td><td style=\"text-align: right;\">       27</td><td style=\"text-align: right;\">  15.7841 </td><td style=\"text-align: right;\">        6</td><td style=\"text-align: right;\">  3.60066</td><td style=\"text-align: right;\"> 12.9647 </td><td style=\"text-align: right;\">     1389</td><td style=\"text-align: right;\">         88</td></tr>\n",
       "<tr><td><i style='opacity: 0.6'>1</i></td><td style=\"text-align: right;\">   104131</td><td style=\"text-align: right;\">       18</td><td style=\"text-align: right;\">   6.75   </td><td style=\"text-align: right;\">        0</td><td style=\"text-align: right;\">  3.73025</td><td style=\"text-align: right;\"> 13.9148 </td><td style=\"text-align: right;\">      297</td><td style=\"text-align: right;\">         44</td></tr>\n",
       "<tr><td><i style='opacity: 0.6'>2</i></td><td style=\"text-align: right;\">   100328</td><td style=\"text-align: right;\">       10</td><td style=\"text-align: right;\">   5.32   </td><td style=\"text-align: right;\">        0</td><td style=\"text-align: right;\">  3.47241</td><td style=\"text-align: right;\"> 12.0576 </td><td style=\"text-align: right;\">      133</td><td style=\"text-align: right;\">         25</td></tr>\n",
       "<tr><td><i style='opacity: 0.6'>3</i></td><td style=\"text-align: right;\">   195554</td><td style=\"text-align: right;\">       17</td><td style=\"text-align: right;\">   9.62069</td><td style=\"text-align: right;\">        2</td><td style=\"text-align: right;\">  5.11532</td><td style=\"text-align: right;\"> 26.1665 </td><td style=\"text-align: right;\">      279</td><td style=\"text-align: right;\">         29</td></tr>\n",
       "<tr><td><i style='opacity: 0.6'>4</i></td><td style=\"text-align: right;\">   124436</td><td style=\"text-align: right;\">       14</td><td style=\"text-align: right;\">   8.15789</td><td style=\"text-align: right;\">        2</td><td style=\"text-align: right;\">  3.16665</td><td style=\"text-align: right;\"> 10.0277 </td><td style=\"text-align: right;\">      155</td><td style=\"text-align: right;\">         19</td></tr>\n",
       "<tr><td><i style='opacity: 0.6'>5</i></td><td style=\"text-align: right;\">   130536</td><td style=\"text-align: right;\">       10</td><td style=\"text-align: right;\">   5.88571</td><td style=\"text-align: right;\">        3</td><td style=\"text-align: right;\">  1.84811</td><td style=\"text-align: right;\">  3.41551</td><td style=\"text-align: right;\">      206</td><td style=\"text-align: right;\">         35</td></tr>\n",
       "<tr><td><i style='opacity: 0.6'>6</i></td><td style=\"text-align: right;\">   144132</td><td style=\"text-align: right;\">       34</td><td style=\"text-align: right;\">  14.8667 </td><td style=\"text-align: right;\">        1</td><td style=\"text-align: right;\">  3.55357</td><td style=\"text-align: right;\"> 12.6278 </td><td style=\"text-align: right;\">     4237</td><td style=\"text-align: right;\">        285</td></tr>\n",
       "<tr><td><i style='opacity: 0.6'>7</i></td><td style=\"text-align: right;\">   176392</td><td style=\"text-align: right;\">       22</td><td style=\"text-align: right;\">  13.234  </td><td style=\"text-align: right;\">        7</td><td style=\"text-align: right;\">  2.74608</td><td style=\"text-align: right;\">  7.54097</td><td style=\"text-align: right;\">      622</td><td style=\"text-align: right;\">         47</td></tr>\n",
       "<tr><td><i style='opacity: 0.6'>8</i></td><td style=\"text-align: right;\">   129527</td><td style=\"text-align: right;\">       11</td><td style=\"text-align: right;\">   5.73469</td><td style=\"text-align: right;\">        0</td><td style=\"text-align: right;\">  2.05809</td><td style=\"text-align: right;\">  4.23574</td><td style=\"text-align: right;\">      281</td><td style=\"text-align: right;\">         49</td></tr>\n",
       "<tr><td><i style='opacity: 0.6'>9</i></td><td style=\"text-align: right;\">   138034</td><td style=\"text-align: right;\">       20</td><td style=\"text-align: right;\">  11.6875 </td><td style=\"text-align: right;\">        5</td><td style=\"text-align: right;\">  3.5217 </td><td style=\"text-align: right;\"> 12.4023 </td><td style=\"text-align: right;\">      374</td><td style=\"text-align: right;\">         32</td></tr>\n",
       "</tbody>\n",
       "</table>"
      ],
      "text/plain": [
       "  #    HADM_ID    cvp_max    cvp_mean    cvp_min    cvp_std    cvp_var    cvp_sum    cvp_count\n",
       "  0     198845         27    15.7841           6    3.60066   12.9647        1389           88\n",
       "  1     104131         18     6.75             0    3.73025   13.9148         297           44\n",
       "  2     100328         10     5.32             0    3.47241   12.0576         133           25\n",
       "  3     195554         17     9.62069          2    5.11532   26.1665         279           29\n",
       "  4     124436         14     8.15789          2    3.16665   10.0277         155           19\n",
       "  5     130536         10     5.88571          3    1.84811    3.41551        206           35\n",
       "  6     144132         34    14.8667           1    3.55357   12.6278        4237          285\n",
       "  7     176392         22    13.234            7    2.74608    7.54097        622           47\n",
       "  8     129527         11     5.73469          0    2.05809    4.23574        281           49\n",
       "  9     138034         20    11.6875           5    3.5217    12.4023         374           32"
      ]
     },
     "execution_count": 34,
     "metadata": {},
     "output_type": "execute_result"
    }
   ],
   "source": [
    "cvp_stat.head()"
   ]
  },
  {
   "cell_type": "code",
   "execution_count": null,
   "metadata": {},
   "outputs": [],
   "source": []
  }
 ],
 "metadata": {
  "kernelspec": {
   "display_name": "Python 3",
   "language": "python",
   "name": "python3"
  },
  "language_info": {
   "codemirror_mode": {
    "name": "ipython",
    "version": 3
   },
   "file_extension": ".py",
   "mimetype": "text/x-python",
   "name": "python",
   "nbconvert_exporter": "python",
   "pygments_lexer": "ipython3",
   "version": "3.8.3"
  }
 },
 "nbformat": 4,
 "nbformat_minor": 4
}
