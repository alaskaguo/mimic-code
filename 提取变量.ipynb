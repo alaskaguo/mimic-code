{
 "cells": [
  {
   "cell_type": "code",
   "execution_count": null,
   "metadata": {},
   "outputs": [],
   "source": [
    "import pandas as pd\n",
    "import vaex\n",
    "import os\n",
    "import matplotlib.pyplot as plt\n",
    "import datetime\n",
    "from plotnine import *\n",
    "import re"
   ]
  },
  {
   "cell_type": "code",
   "execution_count": null,
   "metadata": {},
   "outputs": [],
   "source": [
    "path = r\"F:\\myresearch\\TraumaHba1\\data\"\n",
    "os.chdir(path)\n",
    "sheets = os.listdir(path)\n",
    "sheets"
   ]
  },
  {
   "cell_type": "code",
   "execution_count": null,
   "metadata": {},
   "outputs": [],
   "source": [
    "\"\"\"\n",
    "(\n",
    "    ggplot(trauma[trauma[\"DAYS_SURV\"].notna()], aes(x='DAYS_SURV'))\n",
    "    + geom_histogram()\n",
    ")\n",
    "\"\"\""
   ]
  },
  {
   "cell_type": "code",
   "execution_count": null,
   "metadata": {},
   "outputs": [],
   "source": [
    "patients = pd.read_csv('trauma_addmission.csv')"
   ]
  },
  {
   "cell_type": "code",
   "execution_count": null,
   "metadata": {},
   "outputs": [],
   "source": [
    "patients = patients[patients.columns[[3,4,18,22,28,29,27]]]"
   ]
  },
  {
   "cell_type": "code",
   "execution_count": null,
   "metadata": {},
   "outputs": [],
   "source": [
    "patients.shape"
   ]
  },
  {
   "cell_type": "code",
   "execution_count": null,
   "metadata": {},
   "outputs": [],
   "source": [
    "patients.HADM_ID.drop_duplicates().shape"
   ]
  },
  {
   "cell_type": "code",
   "execution_count": null,
   "metadata": {},
   "outputs": [],
   "source": [
    "procedure_mv = pd.read_csv(\"trauma_procedure_mv.csv\")"
   ]
  },
  {
   "cell_type": "code",
   "execution_count": null,
   "metadata": {},
   "outputs": [],
   "source": [
    "## 有创通气\n",
    "procedure_mv[(procedure_mv[\"ITEMID\"] == 225792)][\"SUBJECT_ID\"].drop_duplicates().shape"
   ]
  },
  {
   "cell_type": "code",
   "execution_count": null,
   "metadata": {},
   "outputs": [],
   "source": [
    "#无创通气\n",
    "procedure_mv[(procedure_mv[\"ITEMID\"] == 225794)][\"SUBJECT_ID\"].drop_duplicates().shape"
   ]
  },
  {
   "cell_type": "code",
   "execution_count": null,
   "metadata": {},
   "outputs": [],
   "source": [
    "#插管\n",
    "procedure_mv[(procedure_mv[\"ITEMID\"] == 224385)][\"SUBJECT_ID\"].drop_duplicates().shape"
   ]
  },
  {
   "cell_type": "code",
   "execution_count": null,
   "metadata": {},
   "outputs": [],
   "source": [
    "#拔管\n",
    "procedure_mv[(procedure_mv[\"ITEMID\"] == 227194)][\"SUBJECT_ID\"].drop_duplicates().shape"
   ]
  },
  {
   "cell_type": "code",
   "execution_count": null,
   "metadata": {},
   "outputs": [],
   "source": [
    "#气管切开\n",
    "procedure_mv[(procedure_mv[\"ITEMID\"] == 225448)][\"SUBJECT_ID\"].drop_duplicates().shape"
   ]
  },
  {
   "cell_type": "code",
   "execution_count": null,
   "metadata": {},
   "outputs": [],
   "source": [
    "#非计划性拔管\n",
    "procedure_mv[(procedure_mv[\"ITEMID\"] == 225468)][\"SUBJECT_ID\"].drop_duplicates().shape"
   ]
  },
  {
   "cell_type": "code",
   "execution_count": null,
   "metadata": {},
   "outputs": [],
   "source": [
    "procedure_icd = pd.read_csv(\"trauma_procedure_icd.csv\")"
   ]
  },
  {
   "cell_type": "code",
   "execution_count": null,
   "metadata": {},
   "outputs": [],
   "source": [
    "procedure_icd.info()"
   ]
  },
  {
   "cell_type": "code",
   "execution_count": null,
   "metadata": {},
   "outputs": [],
   "source": [
    "## 有创通气大于96小时\n",
    "procedure_icd[(procedure_icd[\"ICD9_CODE\"] == 9672)][\"SUBJECT_ID\"].drop_duplicates().shape"
   ]
  },
  {
   "cell_type": "code",
   "execution_count": null,
   "metadata": {},
   "outputs": [],
   "source": [
    "## 有创通气小于96小时\n",
    "procedure_icd[(procedure_icd[\"ICD9_CODE\"] == 9671)][\"SUBJECT_ID\"].drop_duplicates().shape"
   ]
  },
  {
   "cell_type": "code",
   "execution_count": null,
   "metadata": {},
   "outputs": [],
   "source": [
    "## 无创通气\n",
    "procedure_icd[(procedure_icd[\"ICD9_CODE\"] == 9390)][\"SUBJECT_ID\"].drop_duplicates().shape"
   ]
  },
  {
   "cell_type": "markdown",
   "metadata": {},
   "source": [
    "#### 提取机械通气病人号，合并入patients表格"
   ]
  },
  {
   "cell_type": "code",
   "execution_count": null,
   "metadata": {},
   "outputs": [],
   "source": [
    "ventilation_icd9 = [9672,9671,9390,8669]\n",
    "ventilation_icd_subjectid = procedure_icd[(procedure_icd[\"ICD9_CODE\"].isin(ventilation_icd9))][\"HADM_ID\"].drop_duplicates()\n",
    "\n",
    "ventilator_id = [225792,225794,227194,225448]\n",
    "ventilation_mv_subjectid = procedure_mv[(procedure_mv[\"ITEMID\"].isin(ventilator_id))][\"HADM_ID\"].drop_duplicates()\n",
    "\n",
    "ventilation_subjectid = pd.concat([ventilation_icd_subjectid,ventilation_mv_subjectid]).drop_duplicates()\n",
    "\n",
    "ventilation = pd.DataFrame({\"HADM_ID\":ventilation_subjectid,\"ventilation\":1})\n",
    "\n",
    "patients = pd.merge(patients,ventilation,on=\"HADM_ID\",how=\"left\")"
   ]
  },
  {
   "cell_type": "markdown",
   "metadata": {},
   "source": [
    "#### 提取crrt病历号，合并入patients"
   ]
  },
  {
   "cell_type": "code",
   "execution_count": null,
   "metadata": {},
   "outputs": [],
   "source": [
    "crrt_mv_id = [225441,252802,225399,225400]\n",
    "crrt_mv_subjectid = procedure_mv[(procedure_mv[\"ITEMID\"].isin(crrt_mv_id))][\"HADM_ID\"].drop_duplicates()\n",
    "\n",
    "crrt_icd_id = [3995]\n",
    "crrt_icd_subjectid = procedure_icd[(procedure_icd[\"ICD9_CODE\"].isin(crrt_icd_id))][\"HADM_ID\"].drop_duplicates()\n",
    "\n",
    "crrt_subjectid = pd.concat([crrt_icd_subjectid,crrt_mv_subjectid]).drop_duplicates()\n",
    "\n",
    "crrt = pd.DataFrame({\"HADM_ID\":crrt_subjectid,\"crrt\":1})\n",
    "\n",
    "patients = pd.merge(patients,crrt,on=\"HADM_ID\",how=\"left\")"
   ]
  },
  {
   "cell_type": "code",
   "execution_count": null,
   "metadata": {},
   "outputs": [],
   "source": [
    "chartevents = vaex.open(\"trauma_chartevents.hdf5\")"
   ]
  },
  {
   "cell_type": "markdown",
   "metadata": {},
   "source": [
    "##### 提取收缩压并合并"
   ]
  },
  {
   "cell_type": "code",
   "execution_count": null,
   "metadata": {},
   "outputs": [],
   "source": [
    "bps_chart_id = [220179,220050,224167,227243,51,455,225309,6701,442]\n",
    "\n",
    "bps_chart = chartevents[chartevents[\"ITEMID\"].isin(bps_chart_id)]\n",
    "\n",
    "bps_chart_df = bps_chart.to_pandas_df()\n",
    "\n",
    "# bps_chart_df.info()\n",
    "\n",
    "bps_chart_df[[\"CHARTTIME\",\"STORETIME\"]] = bps_chart_df[[\"CHARTTIME\",\"STORETIME\"]].apply(lambda x:pd.to_datetime(x))\n",
    "## 提取收缩压的首次测量值\n",
    "bps_first_time = bps_chart_df.groupby(\"HADM_ID\").agg({\"CHARTTIME\":\"min\"})\n",
    "\n",
    "bps=pd.merge(bps_first_time,bps_chart_df,on=\"CHARTTIME\",how=\"left\")[[\"HADM_ID\",\"VALUENUM\"]]\n",
    "\n",
    "bps.drop_duplicates(subset=[\"HADM_ID\"],inplace=True)\n",
    "\n",
    "patients = pd.merge(patients,bps,on=\"HADM_ID\",how=\"left\")\n",
    "\n",
    "patients.rename(columns={\"VALUENUM\":\"bps\"},inplace=True)"
   ]
  },
  {
   "cell_type": "code",
   "execution_count": null,
   "metadata": {},
   "outputs": [],
   "source": [
    "bps.drop_duplicates(subset=[\"HADM_ID\"],inplace=True)"
   ]
  },
  {
   "cell_type": "code",
   "execution_count": null,
   "metadata": {},
   "outputs": [],
   "source": [
    "bpd_chart_id = [8368,8441,220051,220180,225310,8555,8440,224643,227242]\n",
    "\n",
    "bpd_chart = chartevents[chartevents[\"ITEMID\"].isin(bpd_chart_id)]\n",
    "\n",
    "bpd_chart_df = bpd_chart.to_pandas_df()\n",
    "\n",
    "# bpd_chart_df.info()\n",
    "\n",
    "bpd_chart_df[[\"CHARTTIME\",\"STORETIME\"]] = bpd_chart_df[[\"CHARTTIME\",\"STORETIME\"]].apply(lambda x:pd.to_datetime(x))\n",
    "## 提取收缩压的首次测量值\n",
    "bpd_first_time = bpd_chart_df.groupby(\"SUBJECT_ID\").agg({\"CHARTTIME\":\"min\"})\n",
    "\n",
    "bpd=pd.merge(bpd_first_time,bpd_chart_df,on=\"CHARTTIME\",how=\"left\")[[\"HADM_ID\",\"VALUENUM\"]]\n",
    "\n",
    "bpd.drop_duplicates(subset=[\"HADM_ID\"],inplace=True)\n",
    "\n",
    "patients = pd.merge(patients,bpd,on=\"HADM_ID\",how=\"left\")\n",
    "\n",
    "patients.rename(columns={\"VALUENUM\":\"bpd\"},inplace=True)"
   ]
  },
  {
   "cell_type": "code",
   "execution_count": null,
   "metadata": {},
   "outputs": [],
   "source": [
    "spo2_chart_id = [646,220277]\n",
    "\n",
    "spo2_chart = chartevents[chartevents[\"ITEMID\"].isin(spo2_chart_id)]\n",
    "\n",
    "spo2_chart_df = spo2_chart.to_pandas_df()\n",
    "\n",
    "# bpd_chart_df.info()\n",
    "\n",
    "spo2_chart_df[[\"CHARTTIME\",\"STORETIME\"]] = spo2_chart_df[[\"CHARTTIME\",\"STORETIME\"]].apply(lambda x:pd.to_datetime(x))\n",
    "## 提取收缩压的首次测量值\n",
    "spo2_first_time = spo2_chart_df.groupby(\"SUBJECT_ID\").agg({\"CHARTTIME\":\"min\"})\n",
    "\n",
    "spo2=pd.merge(spo2_first_time,spo2_chart_df,on=\"CHARTTIME\",how=\"left\")[[\"HADM_ID\",\"VALUENUM\"]]\n",
    "\n",
    "spo2.drop_duplicates(subset=[\"HADM_ID\"],inplace=True)\n",
    "\n",
    "patients = pd.merge(patients,spo2,on=\"HADM_ID\",how=\"left\")\n",
    "\n",
    "patients.rename(columns={\"VALUENUM\":\"spo2\"},inplace=True)"
   ]
  },
  {
   "cell_type": "code",
   "execution_count": null,
   "metadata": {},
   "outputs": [],
   "source": [
    "def add_vari_chartevents(chart_id_list,variable_name):\n",
    "    \n",
    "    global patients\n",
    "     \n",
    "    chart = chartevents[chartevents[\"ITEMID\"].isin(chart_id_list)]\n",
    "    \n",
    "    chart_df = chart.to_pandas_df()\n",
    "\n",
    "    # bpd_chart_df.info()\n",
    "\n",
    "    chart_df[[\"CHARTTIME\",\"STORETIME\"]] = chart_df[[\"CHARTTIME\",\"STORETIME\"]].apply(lambda x:pd.to_datetime(x))\n",
    "    ## 提取收缩压的首次测量值\n",
    "    first_time = chart_df.groupby(\"HADM_ID\").agg({\"CHARTTIME\":\"min\"})\n",
    "\n",
    "    events=pd.merge(first_time,chart_df,on=\"CHARTTIME\",how=\"left\")[[\"HADM_ID\",\"VALUENUM\"]]\n",
    "\n",
    "    events.drop_duplicates(subset=[\"HADM_ID\"],inplace=True)\n",
    "    \n",
    "    patients = pd.merge(patients,events,on=\"HADM_ID\",how=\"left\")\n",
    "\n",
    "    patients.rename(columns={\"VALUENUM\":variable_name},inplace=True)"
   ]
  },
  {
   "cell_type": "code",
   "execution_count": null,
   "metadata": {},
   "outputs": [],
   "source": [
    "bps_chart_id = [220179,220050,224167,227243,51,455,225309,6701,442]\n",
    "variable = \"bps\""
   ]
  },
  {
   "cell_type": "code",
   "execution_count": null,
   "metadata": {},
   "outputs": [],
   "source": [
    "add_vari_chartevents(bps_chart_id,variable)"
   ]
  },
  {
   "cell_type": "code",
   "execution_count": null,
   "metadata": {},
   "outputs": [],
   "source": [
    "bpd_chart_id = [8368,8441,220051,220180,225310,8555,8440,224643,227242]\n",
    "bpd = \"bpd\""
   ]
  },
  {
   "cell_type": "code",
   "execution_count": null,
   "metadata": {},
   "outputs": [],
   "source": [
    "add_vari_chartevents(bpd_chart_id,bpd)"
   ]
  },
  {
   "cell_type": "code",
   "execution_count": null,
   "metadata": {},
   "outputs": [],
   "source": [
    "spo2_chart_id = [646,220277]\n",
    "spo2=\"spo2\""
   ]
  },
  {
   "cell_type": "code",
   "execution_count": null,
   "metadata": {},
   "outputs": [],
   "source": [
    "add_vari_chartevents(spo2_chart_id,spo2)"
   ]
  },
  {
   "cell_type": "code",
   "execution_count": null,
   "metadata": {},
   "outputs": [],
   "source": [
    "patients"
   ]
  },
  {
   "cell_type": "code",
   "execution_count": null,
   "metadata": {},
   "outputs": [],
   "source": [
    "labevents = pd.read_csv(\"trauma_labevents.csv\",parse_dates=[4])"
   ]
  },
  {
   "cell_type": "code",
   "execution_count": null,
   "metadata": {},
   "outputs": [],
   "source": [
    "\"\"\"\n",
    "从chartevents 表中提取首次指标，加入总表\n",
    "lab_id_list:列表，所需项目的ITEMID集合\n",
    "variable_name:目标表格中新变量(新列)的名称\n",
    "注意事项：1、总表需要定义成全局变量，并且需要根据具体情况改名\n",
    "          2、仅适用于hdf5格式数据表\n",
    "\"\"\"\n",
    "\n",
    "def add_vari_labevents(lab_id_list,variable_name):\n",
    "    \n",
    "    global patients\n",
    "    \n",
    "    global labevents\n",
    "     \n",
    "    labevents = labevents[labevents[\"ITEMID\"].isin(lab_id_list)]\n",
    "    \n",
    "    ## 提取收缩压的首次测量值\n",
    "    first_time = labevents.groupby(\"HADM_ID\").agg({\"CHARTTIME\":\"min\"})\n",
    "\n",
    "    events=pd.merge(first_time,labevents,on=\"CHARTTIME\",how=\"left\")[[\"HADM_ID\",\"VALUENUM\"]]\n",
    "\n",
    "    events.drop_duplicates(subset=[\"HADM_ID\"],inplace=True)\n",
    "    \n",
    "    patients = pd.merge(patients,events,on=\"HADM_ID\",how=\"left\")\n",
    "\n",
    "    patients.rename(columns={\"VALUENUM\":variable_name},inplace=True)"
   ]
  },
  {
   "cell_type": "code",
   "execution_count": null,
   "metadata": {},
   "outputs": [],
   "source": [
    "lab_id_list = [58052]\n",
    "variable_name=\"HbAc1\"\n",
    "add_vari_labevents(lab_id_list,variable_name)\\\n",
    "\n",
    "## 一个都没有"
   ]
  },
  {
   "cell_type": "code",
   "execution_count": null,
   "metadata": {},
   "outputs": [],
   "source": [
    "chart_id_list = [861,1127,1542,220546]\n",
    "variable_name = \"wbc\"\n",
    "add_vari_chartevents(chart_id_list,variable_name)"
   ]
  },
  {
   "cell_type": "code",
   "execution_count": null,
   "metadata": {},
   "outputs": [],
   "source": [
    "\"\"\"\n",
    "向总表中加入变量列\n",
    "\"\"\"\n",
    "bps_chart_id = [220179,220050,224167,227243,51,455,225309,6701,442]\n",
    "bpd_chart_id = [8368,8441,220051,220180,225310,8555,8440,224643,227242]\n",
    "spo2_chart_id = [646,220277]\n",
    "\"\"\"\n",
    "构造字典，键为预定列名，值为ITEMID列表\n",
    "\"\"\"\n",
    "varid = {\"bps\":bps_chart_id,\"bpd\":bpd_chart_id,\"spo2\":spo2_chart_id}\n",
    "\n",
    "for i in varid.items():\n",
    "    #print(i[0])\n",
    "    #print(i[1])\n",
    "    ## 注意不同数据表调用不同函数\n",
    "    add_vari_chartevents(i[1],i[0])"
   ]
  },
  {
   "cell_type": "code",
   "execution_count": null,
   "metadata": {},
   "outputs": [],
   "source": [
    "patients"
   ]
  },
  {
   "cell_type": "code",
   "execution_count": null,
   "metadata": {},
   "outputs": [],
   "source": [
    "(\n",
    "    ggplot(patients[patients[\"wbc\"].notna()], aes(x='wbc'))\n",
    "    + geom_histogram()\n",
    ")"
   ]
  },
  {
   "cell_type": "code",
   "execution_count": null,
   "metadata": {},
   "outputs": [],
   "source": []
  }
 ],
 "metadata": {
  "kernelspec": {
   "display_name": "Python 3",
   "language": "python",
   "name": "python3"
  },
  "language_info": {
   "codemirror_mode": {
    "name": "ipython",
    "version": 3
   },
   "file_extension": ".py",
   "mimetype": "text/x-python",
   "name": "python",
   "nbconvert_exporter": "python",
   "pygments_lexer": "ipython3",
   "version": "3.8.3"
  }
 },
 "nbformat": 4,
 "nbformat_minor": 4
}
