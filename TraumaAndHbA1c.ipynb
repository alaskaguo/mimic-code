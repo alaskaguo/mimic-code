{
 "cells": [
  {
   "cell_type": "code",
   "execution_count": 10,
   "metadata": {},
   "outputs": [],
   "source": [
    "import pandas as pd\n",
    "import vaex\n",
    "import os\n",
    "import matplotlib.pyplot as plt\n",
    "import datetime\n",
    "from plotnine import *\n",
    "import re"
   ]
  },
  {
   "cell_type": "code",
   "execution_count": 11,
   "metadata": {},
   "outputs": [],
   "source": [
    "path = r\"D:\\datasets\\mimiciii\"\n",
    "os.chdir(path)"
   ]
  },
  {
   "cell_type": "code",
   "execution_count": 12,
   "metadata": {},
   "outputs": [
    {
     "data": {
      "text/plain": [
       "['ADMISSIONS.csv',\n",
       " 'admission_adult.csv',\n",
       " 'aline-dataset.csv',\n",
       " 'CALLOUT.csv',\n",
       " 'CAREGIVERS.csv',\n",
       " 'chart.csv',\n",
       " 'CHARTEVENTS.csv.hdf5',\n",
       " 'CNS_BLOOD.CSV',\n",
       " 'CPTEVENTS.csv',\n",
       " 'DATETIMEEVENTS.csv',\n",
       " 'datetimevents_item.csv',\n",
       " 'DIAGNOSES_ICD.csv',\n",
       " 'DRGCODES.csv',\n",
       " 'drug_list.csv',\n",
       " 'D_CPT.csv',\n",
       " 'D_ICD_DIAGNOSES.csv',\n",
       " 'D_ICD_PROCEDURES.csv',\n",
       " 'D_ITEMS.csv',\n",
       " 'D_LABITEMS.csv',\n",
       " 'ICUSTAYS.csv',\n",
       " 'INPUTEVENTS_CV.csv.hdf5',\n",
       " 'INPUTEVENTS_MV.csv',\n",
       " 'LABEVENTS.csv.hdf5',\n",
       " 'microbiology.csv',\n",
       " 'MICROBIOLOGYEVENTS.csv',\n",
       " 'NOTEEVENTS.csv.hdf5',\n",
       " 'OUTPUTEVENTS.csv',\n",
       " 'PATIENTS.csv',\n",
       " 'PATIENTS.csv.hdf5',\n",
       " 'patients_info.csv',\n",
       " 'patient_adult.csv',\n",
       " 'poisonging.csv',\n",
       " 'poisoning_diagnosis_mimiciii.csv',\n",
       " 'prcedures.csv',\n",
       " 'PRESCRIPTIONS.csv',\n",
       " 'PROCEDUREEVENTS_MV.csv',\n",
       " 'PROCEDURES_ICD.csv',\n",
       " 'rtpa.xlsx',\n",
       " 'SERVICES.csv',\n",
       " 'TRANSFERS.csv',\n",
       " 'trauma.csv',\n",
       " '中毒患者统计.xlsx',\n",
       " '中毒诊断列表.xlsx',\n",
       " '处置字典.xlsx',\n",
       " '病人情况.csv',\n",
       " '病原学种类.xlsx',\n",
       " '药物种类.xlsx',\n",
       " '血化验项目.xlsx',\n",
       " '项目种类.xlsx']"
      ]
     },
     "execution_count": 12,
     "metadata": {},
     "output_type": "execute_result"
    }
   ],
   "source": [
    "sheets = os.listdir(path)\n",
    "sheets"
   ]
  },
  {
   "cell_type": "code",
   "execution_count": 13,
   "metadata": {},
   "outputs": [
    {
     "data": {
      "text/plain": [
       "True     930\n",
       "False    110\n",
       "Name: DEATHTIME, dtype: int64"
      ]
     },
     "execution_count": 13,
     "metadata": {},
     "output_type": "execute_result"
    }
   ],
   "source": [
    "### 在入院表里找找出因急性外伤入院患者\n",
    "\n",
    "#addmissions = pd.read_csv(\"patient_adult.csv\",parse_dates=[3,4,5])     ### patient_adult 仅包含成人患者\n",
    "\n",
    "## 新研究读取基本患者数据\n",
    "\n",
    "addmissions = pd.read_csv(\"admission_adult.csv\",parse_dates=[4,5,6,15,16,22,23,24])\n",
    "\n",
    "addmissions.dropna(subset=[\"DIAGNOSIS\"],inplace=True)\n",
    "\n",
    "trauma = addmissions[addmissions.DIAGNOSIS.str.contains(\"injury|wound|trauma\",flags=re.IGNORECASE,regex=True)]\n",
    "\n",
    "trauma = trauma[trauma.ADMISSION_TYPE != \"ELECTIVE\"]\n",
    "\n",
    "# trauma.columns\n",
    "\n",
    "# trauma.HAS_CHARTEVENTS_DATA.value_counts()\n",
    "\n",
    "trauma.DEATHTIME.isna().value_counts()\n",
    "\n",
    "# addmissions.DEATHTIME.isna().value_counts()"
   ]
  },
  {
   "cell_type": "code",
   "execution_count": 43,
   "metadata": {},
   "outputs": [],
   "source": [
    "trauma.to_csv(\"trauma_admissions.csv\")"
   ]
  },
  {
   "cell_type": "markdown",
   "metadata": {},
   "source": [
    "#### 删除3天内死亡样本"
   ]
  },
  {
   "cell_type": "code",
   "execution_count": 14,
   "metadata": {},
   "outputs": [],
   "source": [
    "# under_3day = list(trauma[trauma.survive_days<=3].SUBJECT_ID.values)"
   ]
  },
  {
   "cell_type": "code",
   "execution_count": 15,
   "metadata": {},
   "outputs": [],
   "source": [
    "# trauma = trauma[trauma.SUBJECT_ID.isin(under_3day) == False]"
   ]
  },
  {
   "cell_type": "markdown",
   "metadata": {},
   "source": [
    "#### 读入各种字典"
   ]
  },
  {
   "cell_type": "code",
   "execution_count": 16,
   "metadata": {},
   "outputs": [],
   "source": [
    "d_diagnosis_icd = pd.read_csv(\"D_ICD_DIAGNOSES.csv\")\n",
    "\n",
    "d_labitems = pd.read_csv(\"D_LABITEMS.csv\")\n",
    "d_labitems.dropna(subset=[\"LABEL\"],inplace=True)\n",
    "\n",
    "d_items = pd.read_csv(\"D_ITEMS.csv\")\n",
    "d_items.dropna(subset=[\"LABEL\"],inplace=True)\n",
    "\n",
    "d_cpt = pd.read_csv(\"D_CPT.csv\")\n",
    "\n",
    "d_procedures = pd.read_csv(\"D_ICD_PROCEDURES.csv\")"
   ]
  },
  {
   "cell_type": "markdown",
   "metadata": {},
   "source": [
    "#### 读入常用信息表  "
   ]
  },
  {
   "cell_type": "code",
   "execution_count": 17,
   "metadata": {},
   "outputs": [],
   "source": [
    "## 化验\n",
    "chartevent = vaex.open(\"CHARTEVENTS.csv.hdf5\")\n",
    "labevents = vaex.open(\"LABEVENTS.csv.hdf5\")\n",
    "## 入出液体\n",
    "inputevents_cv = vaex.open(\"INPUTEVENTS_CV.csv.hdf5\")    "
   ]
  },
  {
   "cell_type": "code",
   "execution_count": 19,
   "metadata": {},
   "outputs": [
    {
     "name": "stdout",
     "output_type": "stream",
     "text": [
      "Running time: 164.3562936782837 Seconds\n"
     ]
    }
   ],
   "source": [
    "start=time.time()\n",
    "## 入出液体\n",
    "inputevents_mv = pd.read_csv('INPUTEVENTS_MV.csv')\n",
    "outputevents = pd.read_csv(\"OUTPUTEVENTS.csv\")\n",
    "\n",
    "##处置\n",
    "procedureevents = pd.read_csv(\"PROCEDUREEVENTS_MV.csv\")\n",
    "procedure_icd = pd.read_csv(\"PROCEDURES_ICD.csv\")\n",
    "\n",
    "## 微生物学\n",
    "microbiologyevents = pd.read_csv(\"MICROBIOLOGYEVENTS.csv\")\n",
    "\n",
    "##\n",
    "datetimeevents = pd.read_csv(\"DATETIMEEVENTS.csv\")\n",
    "## 诊断\n",
    "diagnoses_icd = pd.read_csv(\"DIAGNOSES_ICD.csv\")\n",
    "\n",
    "## 药物\n",
    "prescriptions = pd.read_csv(\"PRESCRIPTIONS.csv\",parse_dates=[4,5])\n",
    "\n",
    "end=time.time()\n",
    "print('Running time: %s Seconds'%(end-start))"
   ]
  },
  {
   "cell_type": "markdown",
   "metadata": {},
   "source": [
    "#### 连接诊断代码及名称"
   ]
  },
  {
   "cell_type": "code",
   "execution_count": 20,
   "metadata": {},
   "outputs": [],
   "source": [
    "df_with_diagnosis_icd = pd.merge(trauma,diagnoses_icd,how=\"inner\",on=\"SUBJECT_ID\")\n",
    "\n",
    "df_with_diagnosis = pd.merge(df_with_diagnosis_icd,d_diagnosis_icd,how=\"left\",on=\"ICD9_CODE\")\n",
    "\n",
    "df_with_diagnosis.dropna(subset=[\"LONG_TITLE\"],inplace=True)"
   ]
  },
  {
   "cell_type": "code",
   "execution_count": 21,
   "metadata": {},
   "outputs": [
    {
     "data": {
      "text/plain": [
       "(15463, 36)"
      ]
     },
     "execution_count": 21,
     "metadata": {},
     "output_type": "execute_result"
    }
   ],
   "source": [
    "df_with_diagnosis.shape"
   ]
  },
  {
   "cell_type": "markdown",
   "metadata": {},
   "source": [
    "#### 留取创伤相关诊断及病例号"
   ]
  },
  {
   "cell_type": "code",
   "execution_count": 22,
   "metadata": {},
   "outputs": [],
   "source": [
    "df_dia_with_trauma = df_with_diagnosis[df_with_diagnosis.LONG_TITLE.str.contains(\"[I/i]njury|[w/W]ound|[T/t]rauma\")]"
   ]
  },
  {
   "cell_type": "code",
   "execution_count": 14,
   "metadata": {},
   "outputs": [],
   "source": [
    "# df_dia_with_trauma_1 = df_with_diagnosis[df_with_diagnosis.LONG_TITLE.str.contains(\"injury|wound|trauma\",flags=re.IGNORECASE,regex=True)]"
   ]
  },
  {
   "cell_type": "code",
   "execution_count": 23,
   "metadata": {},
   "outputs": [
    {
     "data": {
      "text/plain": [
       "(2361, 36)"
      ]
     },
     "execution_count": 23,
     "metadata": {},
     "output_type": "execute_result"
    }
   ],
   "source": [
    "df_dia_with_trauma.shape"
   ]
  },
  {
   "cell_type": "code",
   "execution_count": 16,
   "metadata": {},
   "outputs": [
    {
     "data": {
      "text/plain": [
       "(2361, 37)"
      ]
     },
     "execution_count": 16,
     "metadata": {},
     "output_type": "execute_result"
    }
   ],
   "source": [
    "#df_dia_with_trauma_1.shape"
   ]
  },
  {
   "cell_type": "code",
   "execution_count": 17,
   "metadata": {},
   "outputs": [],
   "source": [
    "### 比较两个DATAFRAME是否相同\n",
    "from pandas.testing import assert_frame_equal\n",
    "\n",
    "assert_frame_equal(df_dia_with_trauma,df_dia_with_trauma_1)"
   ]
  },
  {
   "cell_type": "code",
   "execution_count": 24,
   "metadata": {},
   "outputs": [],
   "source": [
    "## 提取诊断名称列表并计数\n",
    "list_diagnosis = df_dia_with_trauma.LONG_TITLE.value_counts()\n",
    "\n",
    "pd.DataFrame(list_diagnosis).to_csv(r\"F:\\myresearch\\TraumaHba1\\data\\list_diagnosis.csv\")"
   ]
  },
  {
   "cell_type": "code",
   "execution_count": 25,
   "metadata": {},
   "outputs": [
    {
     "data": {
      "text/html": [
       "<div>\n",
       "<style scoped>\n",
       "    .dataframe tbody tr th:only-of-type {\n",
       "        vertical-align: middle;\n",
       "    }\n",
       "\n",
       "    .dataframe tbody tr th {\n",
       "        vertical-align: top;\n",
       "    }\n",
       "\n",
       "    .dataframe thead th {\n",
       "        text-align: right;\n",
       "    }\n",
       "</style>\n",
       "<table border=\"1\" class=\"dataframe\">\n",
       "  <thead>\n",
       "    <tr style=\"text-align: right;\">\n",
       "      <th></th>\n",
       "      <th>LONG_TITLE</th>\n",
       "    </tr>\n",
       "  </thead>\n",
       "  <tbody>\n",
       "    <tr>\n",
       "      <th>Contusion of lung without mention of open wound into thorax</th>\n",
       "      <td>116</td>\n",
       "    </tr>\n",
       "    <tr>\n",
       "      <th>Traumatic pneumothorax without mention of open wound into thorax</th>\n",
       "      <td>113</td>\n",
       "    </tr>\n",
       "    <tr>\n",
       "      <th>Open wound of scalp, without mention of complication</th>\n",
       "      <td>81</td>\n",
       "    </tr>\n",
       "    <tr>\n",
       "      <th>Closed fracture of dorsal [thoracic] vertebra without mention of spinal cord injury</th>\n",
       "      <td>69</td>\n",
       "    </tr>\n",
       "    <tr>\n",
       "      <th>Closed fracture of lumbar vertebra without mention of spinal cord injury</th>\n",
       "      <td>60</td>\n",
       "    </tr>\n",
       "    <tr>\n",
       "      <th>...</th>\n",
       "      <td>...</td>\n",
       "    </tr>\n",
       "    <tr>\n",
       "      <th>Open wound of wrist, complicated</th>\n",
       "      <td>1</td>\n",
       "    </tr>\n",
       "    <tr>\n",
       "      <th>Crushing injury of scapular region</th>\n",
       "      <td>1</td>\n",
       "    </tr>\n",
       "    <tr>\n",
       "      <th>Open wound of cheek, complicated</th>\n",
       "      <td>1</td>\n",
       "    </tr>\n",
       "    <tr>\n",
       "      <th>Injury by handgun, undetermined whether accidentally or purposely inflicted</th>\n",
       "      <td>1</td>\n",
       "    </tr>\n",
       "    <tr>\n",
       "      <th>Open wound of face, unspecified site, complicated</th>\n",
       "      <td>1</td>\n",
       "    </tr>\n",
       "  </tbody>\n",
       "</table>\n",
       "<p>411 rows × 1 columns</p>\n",
       "</div>"
      ],
      "text/plain": [
       "                                                    LONG_TITLE\n",
       "Contusion of lung without mention of open wound...         116\n",
       "Traumatic pneumothorax without mention of open ...         113\n",
       "Open wound of scalp, without mention of complic...          81\n",
       "Closed fracture of dorsal [thoracic] vertebra w...          69\n",
       "Closed fracture of lumbar vertebra without ment...          60\n",
       "...                                                        ...\n",
       "Open wound of wrist, complicated                             1\n",
       "Crushing injury of scapular region                           1\n",
       "Open wound of cheek, complicated                             1\n",
       "Injury by handgun, undetermined whether acciden...           1\n",
       "Open wound of face, unspecified site, complicated            1\n",
       "\n",
       "[411 rows x 1 columns]"
      ]
     },
     "execution_count": 25,
     "metadata": {},
     "output_type": "execute_result"
    }
   ],
   "source": [
    "pd.DataFrame(list_diagnosis)"
   ]
  },
  {
   "cell_type": "code",
   "execution_count": 26,
   "metadata": {},
   "outputs": [],
   "source": [
    "#list_diagnosis"
   ]
  },
  {
   "cell_type": "code",
   "execution_count": 27,
   "metadata": {},
   "outputs": [],
   "source": [
    "pd.DataFrame(list_diagnosis).to_csv(r\"F:\\myresearch\\TraumaHba1\\data\\list_diagnosis.csv\")"
   ]
  },
  {
   "cell_type": "code",
   "execution_count": 28,
   "metadata": {},
   "outputs": [],
   "source": [
    "\"\"\"\n",
    "根据ids在相应表格里提取信息\n",
    "table:DataFrame，表格名称，如：outputevents\n",
    "column_name:字符串，提取依据所在列，如：SUBJECT_ID\n",
    "ids:列表，提取依据，如：SUBJECT_ID,HADM_ID等\n",
    "注意参数顺序\n",
    "\"\"\"\n",
    "def ExtractSamples(table,column_name,ids):\n",
    "    table_extracted = table[table[column_name].isin(ids)]\n",
    "    print(\"the table shape is :\"+str(table_extracted.shape))\n",
    "    return table_extracted"
   ]
  },
  {
   "cell_type": "code",
   "execution_count": 29,
   "metadata": {},
   "outputs": [],
   "source": [
    "trauma_ids = trauma.SUBJECT_ID.values"
   ]
  },
  {
   "cell_type": "code",
   "execution_count": 30,
   "metadata": {},
   "outputs": [
    {
     "name": "stdout",
     "output_type": "stream",
     "text": [
      "the table shape is :(10248448, 14)\n"
     ]
    }
   ],
   "source": [
    "chart_trauma = ExtractSamples(chartevent,\"SUBJECT_ID\",trauma_ids)"
   ]
  },
  {
   "cell_type": "code",
   "execution_count": 31,
   "metadata": {},
   "outputs": [],
   "source": [
    "chart_trauma.export_hdf5(r\"F:\\myresearch\\TraumaHba1\\data\\trauma_chartevents.hdf5\")"
   ]
  },
  {
   "cell_type": "code",
   "execution_count": 85,
   "metadata": {},
   "outputs": [],
   "source": [
    "# ct = vaex.open(r\"F:\\myresearch\\TraumaHba1\\data\\trauma_chartevents.hdf5\")"
   ]
  },
  {
   "cell_type": "code",
   "execution_count": 32,
   "metadata": {},
   "outputs": [
    {
     "name": "stdout",
     "output_type": "stream",
     "text": [
      "the table shape is :(688460, 9)\n",
      "the table shape is :(114900, 19)\n",
      "the table shape is :(152998, 13)\n",
      "the table shape is :(152642, 14)\n",
      "the table shape is :(20854, 16)\n",
      "the table shape is :(139786, 31)\n",
      "the table shape is :(543163, 22)\n",
      "the table shape is :(9301, 25)\n",
      "the table shape is :(7835, 5)\n"
     ]
    }
   ],
   "source": [
    "labevents_trauma =  ExtractSamples(labevents,\"SUBJECT_ID\",trauma_ids)\n",
    "\n",
    "labevents.export_csv(r\"F:\\myresearch\\TraumaHba1\\data\\trauma_labevents.csv\")\n",
    "\n",
    "prescriptions_trauma = ExtractSamples(prescriptions,\"SUBJECT_ID\",trauma_ids)\n",
    "\n",
    "prescriptions_trauma.to_csv(r\"F:\\myresearch\\TraumaHba1\\data\\trauma_prescriptions.csv\")\n",
    "\n",
    "outputevents_trauma = ExtractSamples(outputevents,\"SUBJECT_ID\",trauma_ids)\n",
    "\n",
    "outputevents_trauma.to_csv(r\"F:\\myresearch\\TraumaHba1\\data\\trauma_outputevents.csv\")\n",
    "\n",
    "datetimeevents_trauma = ExtractSamples(datetimeevents,\"SUBJECT_ID\",trauma_ids)\n",
    "\n",
    "datetimeevents_trauma.to_csv(r\"F:\\myresearch\\TraumaHba1\\data\\trauma_datetimevents.csv\")\n",
    "\n",
    "trauma.to_csv(r\"F:\\myresearch\\TraumaHba1\\data\\trauma_addmission.csv\")\n",
    "\n",
    "\n",
    "microbiology_trauma = ExtractSamples(microbiologyevents,\"SUBJECT_ID\",trauma_ids)\n",
    "\n",
    "microbiology_trauma.to_csv(r\"F:\\myresearch\\TraumaHba1\\data\\trauma_microbiology.csv\")\n",
    "\n",
    "inputevents_mv_trauma = ExtractSamples(inputevents_mv,\"SUBJECT_ID\",trauma_ids)\n",
    "inputevents_cv_trauma = ExtractSamples(inputevents_cv,\"SUBJECT_ID\",trauma_ids)\n",
    "\n",
    "inputevents_mv_trauma.to_csv(r\"F:\\myresearch\\TraumaHba1\\data\\trauma_input_mv.csv\")\n",
    "\n",
    "inputevents_cv_trauma.export_csv(r\"F:\\myresearch\\TraumaHba1\\data\\trauma_input_cv.csv\")\n",
    "\n",
    "procedure_mv_trauma = ExtractSamples(procedureevents,\"SUBJECT_ID\",trauma_ids)\n",
    "procedure_icd_trauma = ExtractSamples(procedure_icd,\"SUBJECT_ID\",trauma_ids)"
   ]
  },
  {
   "cell_type": "code",
   "execution_count": 33,
   "metadata": {},
   "outputs": [],
   "source": [
    "# procedure_mv_trauma.to_csv(r\"F:\\myresearch\\TraumaHba1\\data\\trauma_procedure_mv.csv\")\n",
    "# procedure_icd_trauma.to_csv(r\"F:\\myresearch\\TraumaHba1\\data\\trauma_procedure_icd.csv\")"
   ]
  },
  {
   "cell_type": "code",
   "execution_count": 34,
   "metadata": {},
   "outputs": [],
   "source": [
    "os.chdir(r\"F:\\myresearch\\TraumaHba1\\data\")\n",
    "\n",
    "pd.merge(pd.DataFrame(outputevents_trauma.ITEMID.drop_duplicates()),d_items,on=\"ITEMID\").to_csv(\"outputevents.csv\")\n",
    "\n",
    "pd.merge(pd.DataFrame(inputevents_mv_trauma.ITEMID.drop_duplicates()),d_items,on=\"ITEMID\").to_csv(\"input_mv.csv\")\n",
    "\n",
    "pd.merge(pd.DataFrame(procedure_mv_trauma.ITEMID.drop_duplicates()),d_items,on=\"ITEMID\").to_csv(\"prcedures_mv.csv\")\n",
    "\n",
    "pd.merge(pd.DataFrame(procedure_icd_trauma.ICD9_CODE.drop_duplicates()),d_procedures,on=\"ICD9_CODE\").to_csv(\"prcedures_icd.csv\")"
   ]
  },
  {
   "cell_type": "code",
   "execution_count": 35,
   "metadata": {},
   "outputs": [],
   "source": [
    "pd.merge(pd.DataFrame(datetimeevents_trauma.ITEMID.drop_duplicates()),d_items,on=\"ITEMID\").to_excel(\"dateimeevent.xlsx\")"
   ]
  },
  {
   "cell_type": "code",
   "execution_count": 55,
   "metadata": {},
   "outputs": [
    {
     "data": {
      "text/plain": [
       "(543163, 32)"
      ]
     },
     "execution_count": 55,
     "metadata": {},
     "output_type": "execute_result"
    }
   ],
   "source": [
    "## vaex 的hdf5格式文件需要单独处理\n",
    "\n",
    "# inputevents_cv_trauma.join(vaex.from_pandas(d_items),on=\"ITEMID\",lsuffix=\"_l\",rsuffix=\"_r\",allow_duplication=\"False\")"
   ]
  },
  {
   "cell_type": "code",
   "execution_count": 36,
   "metadata": {},
   "outputs": [],
   "source": [
    "## 转为pd DataFrame 再处理也行\n",
    "pd.merge(inputevents_cv_trauma.to_pandas_df().ITEMID.drop_duplicates(),d_items,on=\"ITEMID\").to_csv(\"input_cv.csv\")"
   ]
  },
  {
   "cell_type": "code",
   "execution_count": 37,
   "metadata": {},
   "outputs": [
    {
     "data": {
      "text/plain": [
       "(738, 4)"
      ]
     },
     "execution_count": 37,
     "metadata": {},
     "output_type": "execute_result"
    }
   ],
   "source": [
    "pd.merge(pd.DataFrame(procedure_icd_trauma.ICD9_CODE.drop_duplicates()),d_procedures,on=\"ICD9_CODE\").shape"
   ]
  },
  {
   "cell_type": "code",
   "execution_count": 42,
   "metadata": {},
   "outputs": [],
   "source": [
    "pd.merge(pd.DataFrame({\"ITEMID\":chart_trauma.ITEMID.value_counts().index}),d_items,on=\"ITEMID\").to_excel(\"CHART.xlsx\")"
   ]
  },
  {
   "cell_type": "code",
   "execution_count": 41,
   "metadata": {},
   "outputs": [
    {
     "name": "stderr",
     "output_type": "stream",
     "text": [
      "C:\\ProgramData\\Anaconda3\\lib\\site-packages\\plotnine\\stats\\stat_bin.py:93: PlotnineWarning: 'stat_bin()' using 'bins = 14'. Pick better value with 'binwidth'.\n",
      "INFO:MainThread:numexpr.utils:NumExpr defaulting to 2 threads.\n"
     ]
    },
    {
     "data": {
      "image/png": "[encoded data removed]",
      "text/plain": [
       "<Figure size 640x480 with 1 Axes>"
      ]
     },
     "metadata": {},
     "output_type": "display_data"
    },
    {
     "data": {
      "text/plain": [
       "<ggplot: (133519511462)>"
      ]
     },
     "execution_count": 41,
     "metadata": {},
     "output_type": "execute_result"
    }
   ],
   "source": [
    "(\n",
    "    ggplot(trauma[trauma[\"DAYS_SURV\"].notna()], aes(x='DAYS_SURV'))\n",
    "    + geom_histogram()\n",
    ")"
   ]
  },
  {
   "cell_type": "code",
   "execution_count": null,
   "metadata": {},
   "outputs": [],
   "source": []
  }
 ],
 "metadata": {
  "kernelspec": {
   "display_name": "Python 3",
   "language": "python",
   "name": "python3"
  },
  "language_info": {
   "codemirror_mode": {
    "name": "ipython",
    "version": 3
   },
   "file_extension": ".py",
   "mimetype": "text/x-python",
   "name": "python",
   "nbconvert_exporter": "python",
   "pygments_lexer": "ipython3",
   "version": "3.8.3"
  }
 },
 "nbformat": 4,
 "nbformat_minor": 4
}
